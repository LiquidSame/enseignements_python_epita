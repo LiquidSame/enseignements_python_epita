{
 "cells": [
  {
   "cell_type": "markdown",
   "metadata": {},
   "source": [
    "# Fonctions"
   ]
  },
  {
   "cell_type": "markdown",
   "metadata": {},
   "source": [
    "Forme générale :\n",
    "\n",
    "```python\n",
    "def funcname(arg1, arg2):\n",
    "    \"\"\" Document String\"\"\"\n",
    "    statements\n",
    "    return <value>```"
   ]
  },
  {
   "cell_type": "markdown",
   "metadata": {},
   "source": [
    "- nom de la fonction : funcname\n",
    "- arguments attendus arg1, arg2\n",
    "- documentation de la fonction : \"\"\"Document String\"\n",
    "- retourne une valeur. \n",
    "\n",
    "**Note** une fonction peut ne pas avoir de valeur de retour, auquel cas elle renvoit `None` qui est un type à part l'équivalent python `null`"
   ]
  },
  {
   "cell_type": "code",
   "execution_count": 9,
   "metadata": {},
   "outputs": [
    {
     "name": "stdout",
     "output_type": "stream",
     "text": [
      "hello\n",
      "the function returned None\n"
     ]
    }
   ],
   "source": [
    "def I_ll_return_None():\n",
    "    print(\"hello\")\n",
    "    \n",
    "if I_ll_return_None() is None:\n",
    "    print(\"the function returned None\")"
   ]
  },
  {
   "cell_type": "markdown",
   "metadata": {},
   "source": [
    "**note** `is` est généralement préféré à `==` pour comparer tester si une valeur est None. \n",
    "\n",
    "`is` compare les adresses mémoire, ce qui le rend plus strict"
   ]
  },
  {
   "cell_type": "code",
   "execution_count": null,
   "metadata": {},
   "outputs": [],
   "source": [
    "print([1] is [1])  # équivalent à id([1]) == id([1])\n",
    "print([1] == [1])"
   ]
  },
  {
   "cell_type": "markdown",
   "metadata": {},
   "source": [
    "## Instruction de retour"
   ]
  },
  {
   "cell_type": "code",
   "execution_count": 10,
   "metadata": {},
   "outputs": [],
   "source": [
    "def times(x, y):\n",
    "    z = x * y\n",
    "    return z"
   ]
  },
  {
   "cell_type": "code",
   "execution_count": 11,
   "metadata": {},
   "outputs": [
    {
     "name": "stdout",
     "output_type": "stream",
     "text": [
      "20\n"
     ]
    }
   ],
   "source": [
    "c = times(4,5)\n",
    "print(c)"
   ]
  },
  {
   "cell_type": "markdown",
   "metadata": {},
   "source": [
    "La valeur de retour est stockée dans une variable"
   ]
  },
  {
   "cell_type": "markdown",
   "metadata": {},
   "source": [
    "l'instruction return peut être le resultat d'une instruction"
   ]
  },
  {
   "cell_type": "code",
   "execution_count": null,
   "metadata": {},
   "outputs": [],
   "source": [
    "def times(x,y):\n",
    "    '''This multiplies the two input arguments'''\n",
    "    return x*y"
   ]
  },
  {
   "cell_type": "code",
   "execution_count": null,
   "metadata": {},
   "outputs": [],
   "source": [
    "c = times(4,5)\n",
    "print(c)"
   ]
  },
  {
   "cell_type": "markdown",
   "metadata": {},
   "source": [
    "Il est possible de retourner plusieurs valeurs"
   ]
  },
  {
   "cell_type": "code",
   "execution_count": 14,
   "metadata": {},
   "outputs": [],
   "source": [
    "eglist = [10,50,30,12,6,8,100]"
   ]
  },
  {
   "cell_type": "code",
   "execution_count": 15,
   "metadata": {},
   "outputs": [],
   "source": [
    "def egfunc(eglist):\n",
    "    highest = max(eglist)\n",
    "    lowest = min(eglist)\n",
    "    first = eglist[0]\n",
    "    last = eglist[-1]\n",
    "    return highest,lowest,first,last"
   ]
  },
  {
   "cell_type": "code",
   "execution_count": 16,
   "metadata": {},
   "outputs": [
    {
     "data": {
      "text/plain": [
       "(100, 6, 10, 100)"
      ]
     },
     "execution_count": 16,
     "metadata": {},
     "output_type": "execute_result"
    }
   ],
   "source": [
    "egfunc(eglist)"
   ]
  },
  {
   "cell_type": "code",
   "execution_count": 17,
   "metadata": {},
   "outputs": [
    {
     "name": "stdout",
     "output_type": "stream",
     "text": [
      " a = 100  b = 6  c = 10  d = 100\n"
     ]
    }
   ],
   "source": [
    "a,b,c,d = egfunc(eglist)\n",
    "print(' a =',a,' b =',b,' c =',c,' d =',d)"
   ]
  },
  {
   "cell_type": "markdown",
   "metadata": {},
   "source": [
    "Traiter de multiples valeurs de retour peut prêter à confusion. Une alternative est de renvoyer un [namedtuple](https://docs.python.org/3/library/collections.html#collections.namedtuple) ou un dictionnaire"
   ]
  },
  {
   "cell_type": "code",
   "execution_count": null,
   "metadata": {},
   "outputs": [],
   "source": [
    "def egfunc(eglist):\n",
    "    highest = max(eglist)\n",
    "    lowest = min(eglist)\n",
    "    first = eglist[0]\n",
    "    last = eglist[-1]\n",
    "    return {\"highest\": highest,\"lowest\": lowest,\"first\": first,\"last\": last}"
   ]
  },
  {
   "cell_type": "code",
   "execution_count": null,
   "metadata": {},
   "outputs": [],
   "source": [
    "egfunc(eglist)"
   ]
  },
  {
   "cell_type": "markdown",
   "metadata": {},
   "source": [
    "## arguments par défaut"
   ]
  },
  {
   "cell_type": "markdown",
   "metadata": {},
   "source": [
    "les arguments par défaut constituent un aspect très pratique des fonctions en python"
   ]
  },
  {
   "cell_type": "code",
   "execution_count": 18,
   "metadata": {},
   "outputs": [],
   "source": [
    "def implicit_add(x,y=3,z=0, flag=True):\n",
    "    if flag:\n",
    "        print(\"%d + %d + %d = %d\"%(x,y,z,x+y+z))\n",
    "        return x+y+z\n",
    "    else:\n",
    "        #"
   ]
  },
  {
   "cell_type": "markdown",
   "metadata": {},
   "source": [
    "**implicit_add()** accepte entre 1 et 3 arguments. Si y et/ou z ne sont pas fournis lors de l'appel ils prendront les valeurs définies dans la signature de la fonction."
   ]
  },
  {
   "cell_type": "code",
   "execution_count": 19,
   "metadata": {},
   "outputs": [
    {
     "name": "stdout",
     "output_type": "stream",
     "text": [
      "4 + 3 + 0 = 7\n"
     ]
    },
    {
     "data": {
      "text/plain": [
       "7"
      ]
     },
     "execution_count": 19,
     "metadata": {},
     "output_type": "execute_result"
    }
   ],
   "source": [
    "implicit_add(4)"
   ]
  },
  {
   "cell_type": "markdown",
   "metadata": {},
   "source": [
    "implicit_add peut être apellé de manière très flexible !"
   ]
  },
  {
   "cell_type": "code",
   "execution_count": 20,
   "metadata": {},
   "outputs": [
    {
     "name": "stdout",
     "output_type": "stream",
     "text": [
      "4 + 4 + 0 = 8\n",
      "4 + 5 + 6 = 15\n",
      "4 + 3 + 7 = 14\n",
      "2 + 1 + 9 = 12\n",
      "2 + 1 + 9 = 12\n",
      "1 + 3 + 0 = 4\n"
     ]
    },
    {
     "data": {
      "text/plain": [
       "4"
      ]
     },
     "execution_count": 20,
     "metadata": {},
     "output_type": "execute_result"
    }
   ],
   "source": [
    "implicit_add(4, 4)\n",
    "implicit_add(4, 5, 6)\n",
    "implicit_add(4, z=7)\n",
    "implicit_add(2, y=1, z=9)\n",
    "implicit_add(x=2, z=9, y=1)\n",
    "implicit_add(x=1)"
   ]
  },
  {
   "cell_type": "markdown",
   "metadata": {},
   "source": [
    "La seule contrainte est que les arguments positionnels doivent précéder les keyword arguments"
   ]
  },
  {
   "cell_type": "code",
   "execution_count": null,
   "metadata": {},
   "outputs": [],
   "source": [
    "implicit_add(x=1, 2, 2)  # SYNTAX ERROR"
   ]
  },
  {
   "cell_type": "code",
   "execution_count": null,
   "metadata": {},
   "outputs": [],
   "source": [
    "def f(x=3, y):  # SYNTAX ERROR\n",
    "    pass"
   ]
  },
  {
   "cell_type": "markdown",
   "metadata": {},
   "source": [
    "Note : Il est généralement préférable d'apeller les fonctions en utilisant des keyword arguments. On comprend mieux ce que la fonction va faire sans avoir à y rentrer dedans."
   ]
  },
  {
   "cell_type": "markdown",
   "metadata": {},
   "source": [
    "## Fonctions variadiques"
   ]
  },
  {
   "cell_type": "markdown",
   "metadata": {},
   "source": [
    "https://fr.wikipedia.org/wiki/Fonction_variadique\n",
    "\n",
    "Une fonction variadique accepte un nombre variable d'arguments"
   ]
  },
  {
   "cell_type": "markdown",
   "metadata": {},
   "source": [
    "Il est possible de récupérer l'ensemble des arguments (positionnels et/ou donnés à une fonction en utilisant le symbole `*` pour les arguments positionnels et `**` pour les keywords arguments "
   ]
  },
  {
   "cell_type": "code",
   "execution_count": 21,
   "metadata": {},
   "outputs": [],
   "source": [
    "def a_function(*args, **kwargs):\n",
    "    print(\"arguments positionels\", args)\n",
    "    print(\"keyword arguments\", kwargs)"
   ]
  },
  {
   "cell_type": "code",
   "execution_count": 22,
   "metadata": {},
   "outputs": [
    {
     "name": "stdout",
     "output_type": "stream",
     "text": [
      "arguments positionels (1, 2)\n",
      "keyword arguments {'x': 7, 'y': 9}\n"
     ]
    }
   ],
   "source": [
    "a_function(1,2,x=7, y=9)"
   ]
  },
  {
   "cell_type": "markdown",
   "metadata": {},
   "source": [
    "Il est possible de mixer arguments attendus et variadiques, en respectant l'ordre : \n",
    "- 1. Arguments positionnels attendus (facultatif)\n",
    "- 2. Reste des arguments positionel, capturés par *args\n",
    "- 3. Arguments variadiques attendus (facultatif)\n",
    "- 4. Reste des arguments positionel, capturés par **kwargs"
   ]
  },
  {
   "cell_type": "code",
   "execution_count": 23,
   "metadata": {},
   "outputs": [],
   "source": [
    "def another_function(first_arg, second_arg, *args, a, **kwargs):\n",
    "    print(\"arguments positionnels attendus\", first_arg, second_arg)\n",
    "    print(\"arguments positionels restants\", args)\n",
    "    print(\"keyword arguments  attendus\", a)\n",
    "    print(\"keyword arguments restants\", kwargs)"
   ]
  },
  {
   "cell_type": "code",
   "execution_count": 24,
   "metadata": {},
   "outputs": [
    {
     "name": "stdout",
     "output_type": "stream",
     "text": [
      "arguments positionnels attendus 1 2\n",
      "arguments positionels restants (3, 4)\n",
      "keyword arguments  attendus hello\n",
      "keyword arguments restants {'b': 'epita'}\n"
     ]
    }
   ],
   "source": [
    "another_function(1, 2, 3, 4, a=\"hello\", b=\"epita\")"
   ]
  },
  {
   "cell_type": "markdown",
   "metadata": {},
   "source": [
    "Arbitrary numbers of named arguments can also be accepted using `**`. When the function is called all of the additional named arguments are provided in a dictionary "
   ]
  },
  {
   "cell_type": "markdown",
   "metadata": {},
   "source": [
    "## apparté sur le symbole * et ** "
   ]
  },
  {
   "cell_type": "markdown",
   "metadata": {},
   "source": [
    "Packing"
   ]
  },
  {
   "cell_type": "code",
   "execution_count": 25,
   "metadata": {},
   "outputs": [
    {
     "name": "stdout",
     "output_type": "stream",
     "text": [
      "1\n",
      "[2, 3, 4]\n"
     ]
    }
   ],
   "source": [
    "a, *remains = 1, 2, 3, 4\n",
    "print(a)\n",
    "print(remains)"
   ]
  },
  {
   "cell_type": "markdown",
   "metadata": {},
   "source": [
    "Unpacking"
   ]
  },
  {
   "cell_type": "code",
   "execution_count": 27,
   "metadata": {},
   "outputs": [],
   "source": [
    "def f(a, b, c, d):\n",
    "    return a + b + c + d "
   ]
  },
  {
   "cell_type": "code",
   "execution_count": 28,
   "metadata": {},
   "outputs": [],
   "source": [
    "liste = [\"a\" , \"b\", \"c\", \"d\"]  # comment passer cette liste d'arguments à ma fonction f ?"
   ]
  },
  {
   "cell_type": "code",
   "execution_count": 29,
   "metadata": {},
   "outputs": [
    {
     "ename": "TypeError",
     "evalue": "f() missing 3 required positional arguments: 'b', 'c', and 'd'",
     "output_type": "error",
     "traceback": [
      "\u001b[0;31m---------------------------------------------------------------------------\u001b[0m",
      "\u001b[0;31mTypeError\u001b[0m                                 Traceback (most recent call last)",
      "\u001b[0;32m<ipython-input-29-bc4ce5555a6b>\u001b[0m in \u001b[0;36m<module>\u001b[0;34m\u001b[0m\n\u001b[0;32m----> 1\u001b[0;31m \u001b[0mf\u001b[0m\u001b[0;34m(\u001b[0m\u001b[0mliste\u001b[0m\u001b[0;34m)\u001b[0m  \u001b[0;31m# TYPEERROR\u001b[0m\u001b[0;34m\u001b[0m\u001b[0;34m\u001b[0m\u001b[0m\n\u001b[0m",
      "\u001b[0;31mTypeError\u001b[0m: f() missing 3 required positional arguments: 'b', 'c', and 'd'"
     ]
    }
   ],
   "source": [
    "f(liste)  # TYPEERROR"
   ]
  },
  {
   "cell_type": "code",
   "execution_count": null,
   "metadata": {},
   "outputs": [],
   "source": [
    "f(liste[0], liste[1], liste[2], liste[3]) # Illisible, non extensible"
   ]
  },
  {
   "cell_type": "code",
   "execution_count": null,
   "metadata": {},
   "outputs": [],
   "source": [
    "f(*liste)  # plus propre, on unpack (\"déplie\") la liste dans une série d'arguments"
   ]
  },
  {
   "cell_type": "markdown",
   "metadata": {},
   "source": [
    "fonctionne aussi pour les dictionnaires, avec `**`"
   ]
  },
  {
   "cell_type": "code",
   "execution_count": null,
   "metadata": {},
   "outputs": [],
   "source": [
    "d = {\"a\":\"a\", \"b\":\"b\", \"c\":\"c\", \"d\":\"d\"}\n",
    "f(**d)"
   ]
  },
  {
   "cell_type": "markdown",
   "metadata": {},
   "source": [
    "Peut être utile pour fusionner des dictionnaires"
   ]
  },
  {
   "cell_type": "code",
   "execution_count": null,
   "metadata": {},
   "outputs": [],
   "source": [
    "c = {1: \"hello\", 2: \"world\"}\n",
    "new_dict = {**d, **c}\n",
    "print(new_dict)"
   ]
  },
  {
   "cell_type": "markdown",
   "metadata": {},
   "source": [
    "##  Variables locales et globales"
   ]
  },
  {
   "cell_type": "markdown",
   "metadata": {},
   "source": [
    "Comme en js, une variable définie hors de toute fonction est globale. Elle est :\n",
    "- accessible de partout dans le module \n",
    "- modifiable a condition de préciser son utilisation par le mot clef `global`"
   ]
  },
  {
   "cell_type": "code",
   "execution_count": 5,
   "metadata": {},
   "outputs": [
    {
     "name": "stdout",
     "output_type": "stream",
     "text": [
      "3\n"
     ]
    }
   ],
   "source": [
    "x = 3\n",
    "def read():\n",
    "    print(x)\n",
    "read()"
   ]
  },
  {
   "cell_type": "code",
   "execution_count": 6,
   "metadata": {},
   "outputs": [
    {
     "name": "stdout",
     "output_type": "stream",
     "text": [
      "4\n"
     ]
    }
   ],
   "source": [
    "x = 3\n",
    "def write():\n",
    "    global x\n",
    "    x+= 1\n",
    "write()\n",
    "print(x)"
   ]
  },
  {
   "cell_type": "markdown",
   "metadata": {},
   "source": [
    "Il est possible de faire des closures en python (comme en js), une fonction imbriquée peut acceder aux scope superieur."
   ]
  },
  {
   "cell_type": "code",
   "execution_count": null,
   "metadata": {},
   "outputs": [],
   "source": [
    "def f(x):\n",
    "    def g():\n",
    "        print(x)  # g \"connait\" x\n",
    "    g()\n",
    "f(4)"
   ]
  },
  {
   "cell_type": "markdown",
   "metadata": {},
   "source": [
    "Toutefois, g ne peut pas modifier x. \n",
    "\n",
    "Si c'est désirable, le mot clef `nonlocal` doit être utilisé."
   ]
  },
  {
   "cell_type": "code",
   "execution_count": null,
   "metadata": {},
   "outputs": [],
   "source": [
    "def outerFunction(text): \n",
    "    def innerFunction():\n",
    "        nonlocal text\n",
    "        print(text)\n",
    "        text = \"aa\"\n",
    "    innerFunction() \n",
    "    print(text)"
   ]
  },
  {
   "cell_type": "code",
   "execution_count": null,
   "metadata": {},
   "outputs": [],
   "source": [
    "outerFunction(\"hello\")"
   ]
  },
  {
   "cell_type": "markdown",
   "metadata": {},
   "source": [
    "## Lambda Functions"
   ]
  },
  {
   "cell_type": "markdown",
   "metadata": {},
   "source": [
    "Technique pour écrire une fonction en une ligne"
   ]
  },
  {
   "cell_type": "code",
   "execution_count": 30,
   "metadata": {},
   "outputs": [],
   "source": [
    "z = lambda x: x * x"
   ]
  },
  {
   "cell_type": "code",
   "execution_count": 31,
   "metadata": {},
   "outputs": [
    {
     "data": {
      "text/plain": [
       "64"
      ]
     },
     "execution_count": 31,
     "metadata": {},
     "output_type": "execute_result"
    }
   ],
   "source": [
    "z(8)"
   ]
  },
  {
   "cell_type": "markdown",
   "metadata": {},
   "source": [
    "Il est recommandé de ne pas en abuser. [Source](https://www.python.org/dev/peps/pep-0008/#programming-recommendations)\n",
    "\n",
    "Dans le cas précédent, on préferera cette forme :"
   ]
  },
  {
   "cell_type": "code",
   "execution_count": null,
   "metadata": {},
   "outputs": [],
   "source": [
    "def z(x): \n",
    "    return x * x"
   ]
  },
  {
   "cell_type": "markdown",
   "metadata": {},
   "source": [
    "Peut être pratique lorsqu'il s'agit de passer une fonction à une autre fonction, comme l'argument key min, max ou sort."
   ]
  },
  {
   "cell_type": "code",
   "execution_count": null,
   "metadata": {},
   "outputs": [],
   "source": [
    "scores = ({\"name\" : \"Joe\", \"score\" : 5}, {\"name\" : \"David\", \"score\" : 15}, {\"name\" : \"Tom\", \"score\" : 2})\n",
    "print(scores)"
   ]
  },
  {
   "cell_type": "code",
   "execution_count": null,
   "metadata": {},
   "outputs": [],
   "source": [
    "max(scores, key=lambda item: item[\"score\"])"
   ]
  },
  {
   "cell_type": "markdown",
   "metadata": {},
   "source": [
    "Pour aller plus loin : [Alternative possible](https://docs.python.org/3/library/operator.html#operator.itemgetter) issue de la programmation fonctionelle"
   ]
  },
  {
   "cell_type": "markdown",
   "metadata": {},
   "source": [
    "## Statut des fonctions"
   ]
  },
  {
   "cell_type": "markdown",
   "metadata": {},
   "source": [
    "Les fonctions, comme les variables, sont des des first class citizen (Objet de première classe). \n",
    "\n",
    "Implications (wikipedia) :\n",
    "    \n",
    "- être expressible comme une valeur anonyme littérale ;\n",
    "- **être affecté à des variables ou des structures de données ;**\n",
    "- avoir une identité intrinsèque ;\n",
    "- être comparable pour l'égalité ou l'identité avec d'autres entités ;\n",
    "- **pouvoir être passé comme paramètre à une procédure ou une fonction** ;\n",
    "- **pouvoir être retourné par une procédure ou une fonction** ;\n",
    "- **pouvoir être constructible lors de l'exécution.**"
   ]
  },
  {
   "cell_type": "code",
   "execution_count": null,
   "metadata": {},
   "outputs": [],
   "source": [
    "def z(x): \n",
    "    return x * x"
   ]
  },
  {
   "cell_type": "markdown",
   "metadata": {},
   "source": [
    "Une fonction est en réalité un objet"
   ]
  },
  {
   "cell_type": "code",
   "execution_count": null,
   "metadata": {},
   "outputs": [],
   "source": [
    "print(type(z))"
   ]
  },
  {
   "cell_type": "markdown",
   "metadata": {},
   "source": [
    "Sans surprise, donc, de nombreux attributs et méthodes sont accessibles ?"
   ]
  },
  {
   "cell_type": "code",
   "execution_count": null,
   "metadata": {},
   "outputs": [],
   "source": [
    "dir(z)"
   ]
  },
  {
   "cell_type": "code",
   "execution_count": null,
   "metadata": {},
   "outputs": [],
   "source": [
    "z.anotherattribute = \"1\""
   ]
  },
  {
   "cell_type": "code",
   "execution_count": null,
   "metadata": {},
   "outputs": [],
   "source": [
    "z.anotherattribute"
   ]
  },
  {
   "cell_type": "code",
   "execution_count": null,
   "metadata": {},
   "outputs": [],
   "source": [
    "z.__dict__"
   ]
  },
  {
   "cell_type": "markdown",
   "metadata": {},
   "source": [
    "## Decorateurs"
   ]
  },
  {
   "cell_type": "code",
   "execution_count": 32,
   "metadata": {},
   "outputs": [],
   "source": [
    "def logger(another_function): # A\n",
    "    def new_crafted_function(*args, **kwargs): # B\n",
    "        print(args) # C\n",
    "        print(kwargs) # C\n",
    "        return another_function(*args, **kwargs) # D\n",
    "    return new_crafted_function # A"
   ]
  },
  {
   "cell_type": "markdown",
   "metadata": {},
   "source": [
    "Commentaire ligne par ligne :\n",
    "- Logger est une fonction qui prend en entrée une fonction et qui retourne une nouvelle fonction (# A)\n",
    "- On ne connait pas à l'avance les arguments fournies à cette nouvelle fonction, on utilise donc *args et **kwargs (#B)\n",
    "- Notre nouvelle fonction fait les choses suivantes :\n",
    "    - print les arguments données en entrées (#C)\n",
    "    - renvoit le résultat de la fonction donnée en paramètre sur les arguments fournis (* et ** réalisent l'unpacking des arguments) (#D)\n",
    "   \n",
    "Lorsqu'on écrit un décorateur, les parties A, B et D sont pratiquement toujours les mêmes. C'est la partie C qui change"
   ]
  },
  {
   "cell_type": "code",
   "execution_count": 33,
   "metadata": {},
   "outputs": [],
   "source": [
    "def square(x):\n",
    "    return x*x"
   ]
  },
  {
   "cell_type": "markdown",
   "metadata": {},
   "source": [
    "Peut être augmenté par notre fonction \"logger\""
   ]
  },
  {
   "cell_type": "code",
   "execution_count": 34,
   "metadata": {},
   "outputs": [
    {
     "name": "stdout",
     "output_type": "stream",
     "text": [
      "(11,)\n",
      "{}\n"
     ]
    },
    {
     "data": {
      "text/plain": [
       "121"
      ]
     },
     "execution_count": 34,
     "metadata": {},
     "output_type": "execute_result"
    }
   ],
   "source": [
    "square = logger(square)\n",
    "square(11)"
   ]
  },
  {
   "cell_type": "markdown",
   "metadata": {},
   "source": [
    "Python a prévu une manière simplifiée d'effectuer cette augmentation qui a été apellé \"décorateur\" par 'utilisation du signe `@` (référence faible au design pattern du même nom)."
   ]
  },
  {
   "cell_type": "code",
   "execution_count": null,
   "metadata": {},
   "outputs": [],
   "source": [
    "@logger\n",
    "def square(x):\n",
    "    return x*x"
   ]
  },
  {
   "cell_type": "markdown",
   "metadata": {},
   "source": [
    "absolument équivalent à :"
   ]
  },
  {
   "cell_type": "code",
   "execution_count": null,
   "metadata": {},
   "outputs": [],
   "source": [
    "def square(x):\n",
    "    return x*x\n",
    "square = logger(square)"
   ]
  },
  {
   "cell_type": "markdown",
   "metadata": {},
   "source": [
    "### Décorateurs dans la pratique\n",
    "\n",
    "Il est rare d'avoir à écrire ses propres décorateurs. \n",
    "\n",
    "Cependant, les frameworks et la librairie standard peuvent vous offrir des décorateurs utiles.\n",
    "\n",
    "Exemples : "
   ]
  },
  {
   "cell_type": "code",
   "execution_count": 35,
   "metadata": {},
   "outputs": [
    {
     "data": {
      "text/plain": [
       "9000000000005"
      ]
     },
     "execution_count": 35,
     "metadata": {},
     "output_type": "execute_result"
    }
   ],
   "source": [
    "def sluggish_function(initvalue):\n",
    "    \"\"\"very long function to execute\"\"\"\n",
    "    i = 0\n",
    "    while i < 3_000_000:\n",
    "        i += 1\n",
    "        j = i**2 + initvalue\n",
    "    return j\n",
    "sluggish_function(5)"
   ]
  },
  {
   "cell_type": "code",
   "execution_count": 36,
   "metadata": {},
   "outputs": [
    {
     "name": "stdout",
     "output_type": "stream",
     "text": [
      "9000000000005\n",
      "9000000000005\n",
      "9000000000005\n"
     ]
    }
   ],
   "source": [
    "import functools\n",
    "\n",
    "@functools.lru_cache()\n",
    "def sluggish_function(initvalue):\n",
    "    i = 0\n",
    "    while i < 3_000_000:\n",
    "        i += 1\n",
    "        j = i**2 + initvalue\n",
    "    return j\n",
    "print(sluggish_function(5))\n",
    "print(sluggish_function(5))\n",
    "print(sluggish_function(5))"
   ]
  },
  {
   "cell_type": "markdown",
   "metadata": {},
   "source": [
    "`lru_cache` augmente la fonction `sluggish_function` en maintenant un dictionnaire arguments -> valeur de retours et ainsi éviter de rapeller `sluggish_function` si les arguments ont déjà été utilisés. En savoir plus sur lru_cache : https://docs.python.org/3/library/functools.html#functools.lru_cache"
   ]
  },
  {
   "cell_type": "markdown",
   "metadata": {},
   "source": [
    "Exemple avec Django (framework web). Le développeur écrit des vues (fonctions qui traitent les requêtes web). Il est fréquent d'interdire certaines vues selon le type de requête ou selon si elle est effecutée par un utilisateur non connectée etc..."
   ]
  },
  {
   "cell_type": "code",
   "execution_count": null,
   "metadata": {},
   "outputs": [],
   "source": [
    "from django.views.decorators.http import require_http_methods\n",
    "\n",
    "@require_http_methods([\"GET\", \"POST\"])\n",
    "def my_view(request):\n",
    "    # I can assume now that only GET or POST requests make it this far\n",
    "    # ...\n",
    "    pass"
   ]
  },
  {
   "cell_type": "markdown",
   "metadata": {},
   "source": [
    "En savoir plus sur les décorateurs de vues https://docs.djangoproject.com/fr/2.1/topics/http/decorators/"
   ]
  },
  {
   "cell_type": "markdown",
   "metadata": {},
   "source": [
    "## Aspects fonctionnels de python"
   ]
  },
  {
   "cell_type": "markdown",
   "metadata": {},
   "source": [
    "Python est multi-paradigme. Il n'est donc pas un language fonctionnel à proprement parler. Les lambda functions, par exemple, sont reconnues comme limités comparé à Lisp ou Haskell. Toutefois Python emprunte aux languages fonctionnels de nombreux concepts (comme les list comprehension que nous avons déja vu).\n",
    "\n",
    "Les amateurs de programmation fonctionnelle trouveront de l'intérêt dans les modules listés ici https://docs.python.org/3/library/functional.html"
   ]
  }
 ],
 "metadata": {
  "kernelspec": {
   "display_name": "Python 3",
   "language": "python",
   "name": "python3"
  },
  "language_info": {
   "codemirror_mode": {
    "name": "ipython",
    "version": 3
   },
   "file_extension": ".py",
   "mimetype": "text/x-python",
   "name": "python",
   "nbconvert_exporter": "python",
   "pygments_lexer": "ipython3",
   "version": "3.6.7"
  }
 },
 "nbformat": 4,
 "nbformat_minor": 1
}
