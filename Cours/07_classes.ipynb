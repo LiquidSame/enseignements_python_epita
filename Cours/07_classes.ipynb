{
 "cells": [
  {
   "cell_type": "markdown",
   "metadata": {},
   "source": [
    "# Classes"
   ]
  },
  {
   "cell_type": "markdown",
   "metadata": {},
   "source": [
    "Comme on l'a vu, en python, tout est objet.\n",
    "\n",
    "Les classes sont incontournables. Elles permettent de structure \"proprement\" un projet, en encapsulant des valeurs et des fonctionnalités au sein d'une même entité."
   ]
  },
  {
   "cell_type": "markdown",
   "metadata": {},
   "source": [
    "Exemple"
   ]
  },
  {
   "cell_type": "code",
   "execution_count": null,
   "metadata": {},
   "outputs": [],
   "source": [
    "class Counter:\n",
    "    \n",
    "    def reset(self,init=0):\n",
    "        self.count = init\n",
    "        \n",
    "    def add(self):\n",
    "        self.count += 1\n",
    "        return self.count\n",
    "    \n",
    "counter = Counter()\n",
    "counter.reset(0) \n",
    "print(counter.add())\n",
    "print(counter.add())\n",
    "print(counter.add())"
   ]
  },
  {
   "cell_type": "markdown",
   "metadata": {},
   "source": [
    "Commentaires :\n",
    "- Mot clef `class`\n",
    "- Les methodes sont des fonctions dont le premier argument est `self`\n",
    "- `self` represente l'objet, instance de la classe\n",
    "- `self` a des attributs, accessibles par l'opérateur `.` ils peuvent être ajoutés et modifiés **sans contraintes**\n",
    "- Une classe est instanciée par son appel (`counter = Counter()`)"
   ]
  },
  {
   "cell_type": "markdown",
   "metadata": {},
   "source": [
    "Les attributs peuvent être aussi modifiés et ajoutés depuis l'objet lui même !"
   ]
  },
  {
   "cell_type": "code",
   "execution_count": null,
   "metadata": {},
   "outputs": [],
   "source": [
    "obj1 = Counter()\n",
    "obj1.x = 5\n",
    "x = 7\n",
    "print(\"x in object 1 =\",obj1.x)"
   ]
  },
  {
   "cell_type": "markdown",
   "metadata": {},
   "source": [
    "### Initialisation"
   ]
  },
  {
   "cell_type": "code",
   "execution_count": null,
   "metadata": {},
   "outputs": [],
   "source": [
    "class Counter:\n",
    "    \n",
    "    def __init__(self, step=1):\n",
    "        self.step = step\n",
    "        self.count = 0\n",
    "    \n",
    "    def reset(self,init=0):\n",
    "        self.count = init\n",
    "        \n",
    "    def add(self):\n",
    "        self.count += self.step\n",
    "        return self.count\n",
    "    "
   ]
  },
  {
   "cell_type": "markdown",
   "metadata": {},
   "source": [
    "`__init__`, qui se prononce \"dunder init\" est apellé au moment de l'instanciation. "
   ]
  },
  {
   "cell_type": "code",
   "execution_count": null,
   "metadata": {},
   "outputs": [],
   "source": [
    "c = Counter(step=2)\n",
    "print(c.add())\n",
    "print(c.add())\n",
    "print(c.add())"
   ]
  },
  {
   "cell_type": "markdown",
   "metadata": {},
   "source": [
    "**dir()** est utile pour connaître les attributs et méthodes accessibles"
   ]
  },
  {
   "cell_type": "code",
   "execution_count": null,
   "metadata": {},
   "outputs": [],
   "source": [
    "print(\"Contents of Counter class:\",dir(Counter) )\n",
    "print(\"------------------------\")\n",
    "print(\"------------------------\")\n",
    "print(\"Contents of counter object:\", dir(c))"
   ]
  },
  {
   "cell_type": "markdown",
   "metadata": {},
   "source": [
    "## `__dict__`"
   ]
  },
  {
   "cell_type": "markdown",
   "metadata": {},
   "source": [
    "`__dict__` est le dictionnaire des attributs de l'object. \n",
    "\n",
    "On peut le consulter ou le manipuler directement."
   ]
  },
  {
   "cell_type": "code",
   "execution_count": null,
   "metadata": {},
   "outputs": [],
   "source": [
    "print(c.__dict__)\n",
    "c.newattr = \"newval\"\n",
    "print(c.__dict__)\n",
    "print(c.__dict__[\"newattr\"])\n",
    "c.__dict__[\"newattr\"] = \"another val\"\n",
    "print(c.newattr)\n",
    "print(c.__dict__)"
   ]
  },
  {
   "cell_type": "markdown",
   "metadata": {},
   "source": [
    "On voit ici que les attributs d'un object sont implémentés comme un dictionnaire python. Cela a des coûts en taille et en performance. \n",
    "\n",
    "Si l'ensemble des attributs possible est fixé d'avance, il est possible d'empecher python d'utiliser un dictionnaire, par l'utilisation de `__slots__`."
   ]
  },
  {
   "cell_type": "code",
   "execution_count": null,
   "metadata": {},
   "outputs": [],
   "source": [
    "class Counter:\n",
    "    __slots__= (\"step\", \"count\")\n",
    "    def __init__(self, step=1):\n",
    "        self.step = step\n",
    "        self.count = 0\n",
    "    \n",
    "    def reset(self,init=0):\n",
    "        self.count = init\n",
    "        \n",
    "    def add(self):\n",
    "        self.count += self.step\n",
    "        return self.count"
   ]
  },
  {
   "cell_type": "code",
   "execution_count": null,
   "metadata": {},
   "outputs": [],
   "source": [
    "# Counter().__dict__   # AttributeError : 'Counter' object has no attribute '__dict__'\n",
    "# Counter().newattr = \"newval\"  # AttributeError: 'Counter' object has no attribute 'newattr'"
   ]
  },
  {
   "cell_type": "markdown",
   "metadata": {},
   "source": [
    "Plus d'informations [ici](https://stackoverflow.com/questions/472000/usage-of-slots)"
   ]
  },
  {
   "cell_type": "code",
   "execution_count": null,
   "metadata": {},
   "outputs": [],
   "source": []
  },
  {
   "cell_type": "markdown",
   "metadata": {},
   "source": [
    "Nous reconnaissons les attributs et méthodes que nous avons défini (add, count, reset, step, `__init__`) mais aussi un certain nombres de méthodes et attributs herités du type `Object`. \n",
    "\n",
    "Ces méthodes sont utilisés selon le contexte d'utilisation de l'objet. Quelques exemples :\n",
    "\n",
    "- `__hash__()` invoqué en interne pour obtenir un hash de l'objet (utile dans le cadre de sets ou de dictionnaires)\n",
    "- `__getattribute__()` invoqué lorsqu'on recherche un attribut.\n",
    "- `__str__()` invoqué lors de str(monobjet) ou print(monobjet)\n",
    "- `__repr__()` utilisé à la place de `__str__()` si ce dernier n'est pas défini. Vise à fournir sous forme de texte une représentation plus précise que `__str__()`.\n",
    "\n",
    "Il est possible, et parfois utile, de les redéfinir soi même (`__init__` par exemple).\n",
    "\n",
    "Beaucoup d'autres dunders methodes (autre que celles déjà présentes) peuvent être définis pour augmenter les fonctionnalités de la classe :\n",
    "\n",
    "- `__get_attr__` invoqué lorsqu'un attribut est introuvable\n",
    "- `__iter__` invoqué lorsqu'on veut itérer sur votre object (comme dans le cadre d'une boucle for)\n",
    "- `__len__` invoqué lors de len(monobjet)\n",
    "\n",
    "\n",
    "Les dunders ne doivent pas être considérés comme des attributs ou méthodes privées. D'ailleurs le concept n'existe pas en python. Mais plutôt comme des méthodes utiles (on les apelle d'ailleurs parfois \"magic methods\").\n",
    "\n",
    "\n",
    "Le sujet des dunder methods est riche et vaste. Liens pour en savoir plus :\n",
    "- [Documentation](https://docs.python.org/3/reference/datamodel.html) . \n",
    "- [Excellente vidéo](https://www.youtube.com/watch?v=M4gPxbo6G6k) de l'auteur du livre du livre Fluent Python, portant notamment sur l'utilité des dunders."
   ]
  },
  {
   "cell_type": "markdown",
   "metadata": {},
   "source": [
    "## Heritage"
   ]
  },
  {
   "cell_type": "markdown",
   "metadata": {},
   "source": [
    "Python suporte l'héritage"
   ]
  },
  {
   "cell_type": "code",
   "execution_count": 8,
   "metadata": {},
   "outputs": [],
   "source": [
    "class Person:\n",
    "    \n",
    "    def __init__(self, name):\n",
    "        self.name = name\n",
    "    \n",
    "    def say_hello(self):\n",
    "        print(\"hello\")"
   ]
  },
  {
   "cell_type": "code",
   "execution_count": 9,
   "metadata": {},
   "outputs": [],
   "source": [
    "class Developper(Person):\n",
    "    \n",
    "    def code(self):\n",
    "        print(\"I code\")"
   ]
  },
  {
   "cell_type": "code",
   "execution_count": 11,
   "metadata": {},
   "outputs": [
    {
     "name": "stdout",
     "output_type": "stream",
     "text": [
      "I code\n",
      "hello\n",
      "tom\n"
     ]
    }
   ],
   "source": [
    "tom = Developper(\"tom\")\n",
    "tom.code()\n",
    "tom.say_hello()\n",
    "print(tom.name)"
   ]
  },
  {
   "cell_type": "markdown",
   "metadata": {},
   "source": [
    "## Heritage multiple"
   ]
  },
  {
   "cell_type": "markdown",
   "metadata": {},
   "source": [
    "L'héritage multiple est possible"
   ]
  },
  {
   "cell_type": "code",
   "execution_count": 12,
   "metadata": {},
   "outputs": [],
   "source": [
    "class YiellingAbility:\n",
    "    def yell(self):\n",
    "        print(\"AHHHHHHHHH\")\n",
    "\n",
    "class Developper(Person, YiellingAbility):\n",
    "    def code(self):\n",
    "        print(\"I code\")"
   ]
  },
  {
   "cell_type": "code",
   "execution_count": 13,
   "metadata": {},
   "outputs": [
    {
     "name": "stdout",
     "output_type": "stream",
     "text": [
      "AHHHHHHHHH\n"
     ]
    }
   ],
   "source": [
    "tom = Developper(\"tom\")\n",
    "tom.yell()"
   ]
  }
 ],
 "metadata": {
  "kernelspec": {
   "display_name": "Python 3",
   "language": "python",
   "name": "python3"
  },
  "language_info": {
   "codemirror_mode": {
    "name": "ipython",
    "version": 3
   },
   "file_extension": ".py",
   "mimetype": "text/x-python",
   "name": "python",
   "nbconvert_exporter": "python",
   "pygments_lexer": "ipython3",
   "version": "3.6.7"
  }
 },
 "nbformat": 4,
 "nbformat_minor": 1
}
