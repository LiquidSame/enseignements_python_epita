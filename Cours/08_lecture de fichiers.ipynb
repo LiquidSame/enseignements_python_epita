{
 "cells": [
  {
   "cell_type": "markdown",
   "metadata": {},
   "source": [
    "# Lecture des fichiers dans la pratique"
   ]
  },
  {
   "cell_type": "markdown",
   "metadata": {},
   "source": [
    "Exemple basique"
   ]
  },
  {
   "cell_type": "markdown",
   "metadata": {},
   "source": [
    "en écriture"
   ]
  },
  {
   "cell_type": "code",
   "execution_count": 20,
   "metadata": {},
   "outputs": [],
   "source": [
    "f = open(\"./temp2.txt\", \"w\")  # w = ecriture\n",
    "f.write(\"this\\nis\\na\\nmultiline text\")\n",
    "f.close()"
   ]
  },
  {
   "cell_type": "markdown",
   "metadata": {},
   "source": [
    "en lecture"
   ]
  },
  {
   "cell_type": "code",
   "execution_count": 21,
   "metadata": {},
   "outputs": [
    {
     "name": "stdout",
     "output_type": "stream",
     "text": [
      "this\n",
      "is\n",
      "a\n",
      "multiline text\n"
     ]
    }
   ],
   "source": [
    "f = open(\"./temp2.txt\")\n",
    "print(f.read())\n",
    "f.close()"
   ]
  },
  {
   "cell_type": "markdown",
   "metadata": {},
   "source": [
    "Améliorations.    \n",
    "On spécifie si ou l'ouvre: \n",
    "    - en ouverture et/ou en écriture\n",
    "    - en texte (auquel cas on precise l'encodage) ou en bytes brut"
   ]
  },
  {
   "cell_type": "code",
   "execution_count": 22,
   "metadata": {},
   "outputs": [
    {
     "name": "stdout",
     "output_type": "stream",
     "text": [
      "<class 'str'>\n",
      "this\n",
      "is\n",
      "a\n",
      "multiline text\n"
     ]
    }
   ],
   "source": [
    "f = open(\"./temp2.txt\", \"r\", encoding=\"utf-8\")\n",
    "content = f.read()\n",
    "print(type(content))\n",
    "print(content)\n",
    "f.close()"
   ]
  },
  {
   "cell_type": "code",
   "execution_count": 23,
   "metadata": {},
   "outputs": [
    {
     "name": "stdout",
     "output_type": "stream",
     "text": [
      "<class 'bytes'>\n"
     ]
    }
   ],
   "source": [
    "f = open(\"./temp.txt\", \"rb\")\n",
    "content = f.read()\n",
    "print(type(content))\n",
    "f.close()"
   ]
  },
  {
   "cell_type": "markdown",
   "metadata": {},
   "source": [
    "Problème : Il est important de systématiquement fermer les fichiers après les avoir ouvert. Même si une erreur est rencontrée en cours de traitement.\n",
    "\n",
    "Solution : Utiliser un `with statement`"
   ]
  },
  {
   "cell_type": "code",
   "execution_count": 24,
   "metadata": {},
   "outputs": [
    {
     "name": "stdout",
     "output_type": "stream",
     "text": [
      "this is\n",
      "a\n",
      "multiline file\n",
      "\n"
     ]
    }
   ],
   "source": [
    "line_number = 0\n",
    "with open('./temp.txt', encoding='utf-8') as a_file:\n",
    "    print(a_file.read())"
   ]
  },
  {
   "cell_type": "markdown",
   "metadata": {},
   "source": [
    "Plus besoin d'avoir à fermer manuellement le fichier"
   ]
  },
  {
   "cell_type": "markdown",
   "metadata": {},
   "source": [
    "## Apparté sur \"with\""
   ]
  },
  {
   "cell_type": "markdown",
   "metadata": {},
   "source": [
    "Le mot clef `with` est une fonctionnalité interessante de python. Elle permet d'executer du code avant et après l'execution d'un bloc de code. `with` fonctionne de pair avec ce qu'on apelle un contextmanager (la structure qui définie ce qui est executée avant et après le bloc de code). Ici nous utilisons un context manager de python lui même.\n",
    "\n",
    "Il est aussi possible de créer facilement ses propres context managers. Il est fréquent que les frameworks proposent le leur."
   ]
  },
  {
   "cell_type": "markdown",
   "metadata": {},
   "source": [
    "Exemple avec Django : "
   ]
  },
  {
   "cell_type": "code",
   "execution_count": null,
   "metadata": {},
   "outputs": [],
   "source": [
    "from django.db import transaction\n",
    "\n",
    "def viewfunc(request):\n",
    "    # This code executes in autocommit mode (Django's default).\n",
    "    do_stuff()\n",
    "\n",
    "    with transaction.atomic():\n",
    "        # This code executes inside a transaction.\n",
    "        do_more_stuff()"
   ]
  },
  {
   "cell_type": "markdown",
   "metadata": {},
   "source": [
    "Si le bloc de code se termine avec succès, les modifications sont validées dans la base de données. Si une exception apparaît, les modifications sont annulées en bloc. Source : https://docs.djangoproject.com/fr/2.1/topics/db/transactions/"
   ]
  },
  {
   "cell_type": "markdown",
   "metadata": {},
   "source": [
    "## Types de fichiers"
   ]
  },
  {
   "cell_type": "markdown",
   "metadata": {},
   "source": [
    "Les exemples précédents portent sur des fichiers textes sans extensions particulières. On trouvera évidemment dans la librairie standard des solutions pour lire efficacement des [csv](https://docs.python.org/fr/3/library/csv.html), [json](https://docs.python.org/fr/3/library/json.html) etc.."
   ]
  },
  {
   "cell_type": "markdown",
   "metadata": {},
   "source": [
    "### Fichiers pickle"
   ]
  },
  {
   "cell_type": "markdown",
   "metadata": {},
   "source": [
    "Les fichiers Pickle sortent un peu du lot."
   ]
  },
  {
   "cell_type": "code",
   "execution_count": 41,
   "metadata": {},
   "outputs": [],
   "source": [
    "class MyClass:\n",
    "    pass\n",
    "\n",
    "def f(x): \n",
    "    print(x)\n",
    "    \n",
    "random_bunch_of_things = [{\"hello\":\"hello\", \n",
    "                          \"a\": f\n",
    "                          },\n",
    "                          MyClass()]"
   ]
  },
  {
   "cell_type": "markdown",
   "metadata": {},
   "source": [
    "## Ecriture"
   ]
  },
  {
   "cell_type": "code",
   "execution_count": 52,
   "metadata": {},
   "outputs": [],
   "source": [
    "import pickle\n",
    "with open('./random_bunch_of_things.pkl', 'wb') as openedfile:\n",
    "    pickle.dump(random_bunch_of_things, openedfile)"
   ]
  },
  {
   "cell_type": "markdown",
   "metadata": {},
   "source": [
    "## Lecture"
   ]
  },
  {
   "cell_type": "code",
   "execution_count": 53,
   "metadata": {},
   "outputs": [
    {
     "name": "stdout",
     "output_type": "stream",
     "text": [
      "[{'hello': 'hello', 'a': <function f at 0x7f936968cea0>}, <__main__.MyClass object at 0x7f9369696390>]\n"
     ]
    }
   ],
   "source": [
    "with open('./random_bunch_of_things.pkl', 'rb') as openedfile:\n",
    "    loaded_content = pickle.load(openedfile)\n",
    "print(loaded_content)"
   ]
  },
  {
   "cell_type": "code",
   "execution_count": null,
   "metadata": {},
   "outputs": [],
   "source": [
    "loaded_content[0][\"a\"](\"HELLO\")"
   ]
  },
  {
   "cell_type": "markdown",
   "metadata": {},
   "source": [
    "Pickle peut être très pratique, mais les fichiers générés ne doivent pas aller plus loin que votre propre systèmes à causes de problème de :\n",
    "\n",
    "- Sécurité (le fichier est executé).\n",
    "- Portabilité (local à un système et une version de python)."
   ]
  },
  {
   "cell_type": "code",
   "execution_count": null,
   "metadata": {},
   "outputs": [],
   "source": []
  }
 ],
 "metadata": {
  "kernelspec": {
   "display_name": "Python 3",
   "language": "python",
   "name": "python3"
  },
  "language_info": {
   "codemirror_mode": {
    "name": "ipython",
    "version": 3
   },
   "file_extension": ".py",
   "mimetype": "text/x-python",
   "name": "python",
   "nbconvert_exporter": "python",
   "pygments_lexer": "ipython3",
   "version": "3.6.7"
  }
 },
 "nbformat": 4,
 "nbformat_minor": 2
}
