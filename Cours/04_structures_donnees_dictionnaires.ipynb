{
 "cells": [
  {
   "cell_type": "markdown",
   "metadata": {},
   "source": [
    "<small><small><i>\n",
    "All of these python notebooks are available at [https://gitlab.erc.monash.edu.au/andrease/Python4Maths.git]\n",
    "</i></small></small>"
   ]
  },
  {
   "cell_type": "markdown",
   "metadata": {},
   "source": [
    "## Dictionnaires"
   ]
  },
  {
   "cell_type": "markdown",
   "metadata": {},
   "source": [
    "Souvent appelés HashMaps ou tableaux associatifs dans d'autres languages"
   ]
  },
  {
   "cell_type": "markdown",
   "metadata": {},
   "source": [
    "Définir un dictionnaire, modifier un dictionnaire"
   ]
  },
  {
   "cell_type": "code",
   "execution_count": 1,
   "metadata": {},
   "outputs": [
    {
     "name": "stdout",
     "output_type": "stream",
     "text": [
      "{'abc': 3, 4: 'A string'}\n"
     ]
    }
   ],
   "source": [
    "d = dict() # ou d = {}\n",
    "d['abc'] = 3\n",
    "d[4] = \"A string\"\n",
    "print(d)"
   ]
  },
  {
   "cell_type": "code",
   "execution_count": 2,
   "metadata": {},
   "outputs": [
    {
     "name": "stdout",
     "output_type": "stream",
     "text": [
      "A string\n"
     ]
    }
   ],
   "source": [
    "print(d[4])"
   ]
  },
  {
   "cell_type": "code",
   "execution_count": 3,
   "metadata": {},
   "outputs": [
    {
     "data": {
      "text/plain": [
       "3"
      ]
     },
     "execution_count": 3,
     "metadata": {},
     "output_type": "execute_result"
    }
   ],
   "source": [
    "d = { 1: 'One', 2 : 'Two', 100 : 'Hundred'}\n",
    "len(d)"
   ]
  },
  {
   "cell_type": "markdown",
   "metadata": {},
   "source": [
    "Très flexible !"
   ]
  },
  {
   "cell_type": "markdown",
   "metadata": {},
   "source": [
    "Contraintes.\n",
    "\n",
    "- Pas de contraintes sur les valeurs\n",
    "\n",
    "- Les clefs doivent être hashables (et préférentiellement immutables)\n",
    "\n",
    "\n",
    "**note** en python, les built-ins immutables sont hashables"
   ]
  },
  {
   "cell_type": "code",
   "execution_count": null,
   "metadata": {},
   "outputs": [],
   "source": [
    "d[(1,2)] = 3 # valide"
   ]
  },
  {
   "cell_type": "code",
   "execution_count": null,
   "metadata": {},
   "outputs": [],
   "source": [
    "d[[1, 2]] = 3 # invalide"
   ]
  },
  {
   "cell_type": "markdown",
   "metadata": {},
   "source": [
    "## creation de dictionnaires"
   ]
  },
  {
   "cell_type": "markdown",
   "metadata": {},
   "source": [
    "Possible à partir de couples d'éléments"
   ]
  },
  {
   "cell_type": "code",
   "execution_count": null,
   "metadata": {},
   "outputs": [],
   "source": [
    "d = dict([(1, 2), (3, 4)])"
   ]
  },
  {
   "cell_type": "markdown",
   "metadata": {},
   "source": [
    "Souvent utilisé de pair avec **zip()**"
   ]
  },
  {
   "cell_type": "code",
   "execution_count": null,
   "metadata": {},
   "outputs": [],
   "source": [
    "names = ['One', 'Two', 'Three', 'Four', 'Five']\n",
    "numbers = [1, 2, 3, 4, 5]\n",
    "couples = [ (name,number) for name,number in zip(names,numbers)] # create (name,number) pairs\n",
    "print(couples)\n",
    "print(dict(couples))"
   ]
  },
  {
   "cell_type": "markdown",
   "metadata": {},
   "source": [
    "Ou, mieux, en une seule ligne :"
   ]
  },
  {
   "cell_type": "code",
   "execution_count": null,
   "metadata": {},
   "outputs": [],
   "source": [
    "{name : number for name,number in zip(names,numbers)}"
   ]
  },
  {
   "cell_type": "markdown",
   "metadata": {},
   "source": [
    "**len()**"
   ]
  },
  {
   "cell_type": "code",
   "execution_count": null,
   "metadata": {},
   "outputs": [],
   "source": [
    "print(len(couples))"
   ]
  },
  {
   "cell_type": "markdown",
   "metadata": {},
   "source": [
    "**clear( )** function is used to erase all elements."
   ]
  },
  {
   "cell_type": "code",
   "execution_count": null,
   "metadata": {},
   "outputs": [],
   "source": [
    "couples.clear()\n",
    "print(couples)"
   ]
  },
  {
   "cell_type": "markdown",
   "metadata": {},
   "source": [
    "## Parcourir un dictionnaire"
   ]
  },
  {
   "cell_type": "markdown",
   "metadata": {},
   "source": [
    "**values()** pour parcourir les valeurs"
   ]
  },
  {
   "cell_type": "code",
   "execution_count": 5,
   "metadata": {},
   "outputs": [],
   "source": [
    "couples = {'One': 1, 'Two': 2, 'Three': 3, 'Four': 4, 'Five': 5}"
   ]
  },
  {
   "cell_type": "code",
   "execution_count": 6,
   "metadata": {},
   "outputs": [
    {
     "data": {
      "text/plain": [
       "[1, 2, 3, 4, 5]"
      ]
     },
     "execution_count": 6,
     "metadata": {},
     "output_type": "execute_result"
    }
   ],
   "source": [
    "[v for v in couples.values()]"
   ]
  },
  {
   "cell_type": "markdown",
   "metadata": {},
   "source": [
    "**keys( )** pour parcourir les clefs"
   ]
  },
  {
   "cell_type": "code",
   "execution_count": 7,
   "metadata": {},
   "outputs": [
    {
     "data": {
      "text/plain": [
       "{'Five', 'Four', 'One', 'Three', 'Two'}"
      ]
     },
     "execution_count": 7,
     "metadata": {},
     "output_type": "execute_result"
    }
   ],
   "source": [
    "{ k for k in couples.keys() }"
   ]
  },
  {
   "cell_type": "markdown",
   "metadata": {},
   "source": [
    "**items()**  pour parcourir les clefs **et** les valeurs !"
   ]
  },
  {
   "cell_type": "code",
   "execution_count": 9,
   "metadata": {},
   "outputs": [
    {
     "name": "stdout",
     "output_type": "stream",
     "text": [
      "One 1\n",
      "Two 2\n",
      "Three 3\n",
      "Four 4\n",
      "Five 5\n"
     ]
    }
   ],
   "source": [
    "for k, v in couples.items():\n",
    "    print(k, v)"
   ]
  },
  {
   "cell_type": "markdown",
   "metadata": {},
   "source": [
    "**pop()** supprimer un élément à partir de sa clef"
   ]
  },
  {
   "cell_type": "code",
   "execution_count": null,
   "metadata": {},
   "outputs": [],
   "source": [
    "val = couples.pop('Four')\n",
    "print(couples)\n",
    "print(\"Removed\",val)"
   ]
  },
  {
   "cell_type": "markdown",
   "metadata": {
    "collapsed": true
   },
   "source": [
    "## Tester l'appartenance"
   ]
  },
  {
   "cell_type": "markdown",
   "metadata": {},
   "source": [
    "sur les clefs"
   ]
  },
  {
   "cell_type": "code",
   "execution_count": null,
   "metadata": {},
   "outputs": [],
   "source": [
    "\"One\" in couples"
   ]
  },
  {
   "cell_type": "code",
   "execution_count": null,
   "metadata": {},
   "outputs": [],
   "source": [
    "5 in couples.values()"
   ]
  },
  {
   "cell_type": "markdown",
   "metadata": {},
   "source": [
    "## Notes sur les structures de données"
   ]
  },
  {
   "cell_type": "markdown",
   "metadata": {},
   "source": [
    "- La liste est en fait un stack ([pile](https://fr.wikipedia.org/wiki/Pile_(informatique))). Les opérations sur la fin des listes sont rapides (`O(1)`), mais lentes (`O(n)`)sur les débuts de listes.\n",
    "\n",
    "- Python propose d'autres structures de données dans le module \"collections\". https://docs.python.org/3/library/collections.html\n",
    "Certains sont très pratiques (defaultdict, dequeue, namedtuple)\n",
    "\n",
    "- Les dataclasses, récemment ajoutées à python, peuvent fournir une manière très propre de construire ses structures de données composites https://docs.python.org/3/library/dataclasses.html\n"
   ]
  },
  {
   "cell_type": "code",
   "execution_count": null,
   "metadata": {},
   "outputs": [],
   "source": []
  }
 ],
 "metadata": {
  "celltoolbar": "Raw Cell Format",
  "kernelspec": {
   "display_name": "Python 3",
   "language": "python",
   "name": "python3"
  },
  "language_info": {
   "codemirror_mode": {
    "name": "ipython",
    "version": 3
   },
   "file_extension": ".py",
   "mimetype": "text/x-python",
   "name": "python",
   "nbconvert_exporter": "python",
   "pygments_lexer": "ipython3",
   "version": "3.6.7"
  }
 },
 "nbformat": 4,
 "nbformat_minor": 1
}
