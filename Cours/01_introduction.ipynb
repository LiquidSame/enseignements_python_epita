{
 "cells": [
  {
   "cell_type": "markdown",
   "metadata": {
    "slideshow": {
     "slide_type": "slide"
    }
   },
   "source": [
    "# PYTHON EN 2019"
   ]
  },
  {
   "cell_type": "code",
   "execution_count": null,
   "metadata": {
    "slideshow": {
     "slide_type": "fragment"
    }
   },
   "outputs": [],
   "source": [
    "print(\"hello epita\")"
   ]
  },
  {
   "cell_type": "markdown",
   "metadata": {
    "slideshow": {
     "slide_type": "fragment"
    }
   },
   "source": [
    "## Popularité\n",
    "\n",
    "- #3 TIOBE : https://www.tiobe.com/tiobe-index/"
   ]
  },
  {
   "cell_type": "markdown",
   "metadata": {
    "slideshow": {
     "slide_type": "subslide"
    }
   },
   "source": [
    "- #1 sur Stackoverflow : \n",
    "![growth](https://zgab33vy595fw5zq-zippykid.netdna-ssl.com/wp-content/uploads/2017/09/growth_major_languages-1-1024x878.png)"
   ]
  },
  {
   "cell_type": "markdown",
   "metadata": {
    "slideshow": {
     "slide_type": "slide"
    }
   },
   "source": [
    "## Utilisation de python"
   ]
  },
  {
   "cell_type": "markdown",
   "metadata": {
    "slideshow": {
     "slide_type": "fragment"
    }
   },
   "source": [
    "http://pyfound.blogspot.com/2019/02/python-developers-survey-2018-results.html\n",
    "\n",
    "![resultat psf survey](./images/survey.png)"
   ]
  },
  {
   "cell_type": "markdown",
   "metadata": {
    "slideshow": {
     "slide_type": "slide"
    }
   },
   "source": [
    "# Particularités du language"
   ]
  },
  {
   "cell_type": "markdown",
   "metadata": {
    "slideshow": {
     "slide_type": "subslide"
    }
   },
   "source": [
    "Python a été conçu à partir d'un language a visée pédagogique (ABC), avec l'objectif d'être le plus facile possible à lire et écrire.\n",
    "\n",
    "Multi-Paradigme (fonctionnel, imperatif, orienté objet ...)."
   ]
  },
  {
   "cell_type": "markdown",
   "metadata": {
    "slideshow": {
     "slide_type": "fragment"
    }
   },
   "source": [
    "## Q: Language interprété ou compilé ?\n"
   ]
  },
  {
   "cell_type": "markdown",
   "metadata": {
    "slideshow": {
     "slide_type": "fragment"
    }
   },
   "source": [
    "A : Les deux"
   ]
  },
  {
   "cell_type": "markdown",
   "metadata": {
    "slideshow": {
     "slide_type": "fragment"
    }
   },
   "source": [
    "human code (.py) --> python byte code (.pyc) --> lecture par un interpreteur\n",
    "\n",
    "Similaire à Java."
   ]
  },
  {
   "cell_type": "markdown",
   "metadata": {
    "slideshow": {
     "slide_type": "subslide"
    }
   },
   "source": [
    "### Decompilation du bytecode"
   ]
  },
  {
   "cell_type": "code",
   "execution_count": null,
   "metadata": {
    "slideshow": {
     "slide_type": "fragment"
    }
   },
   "outputs": [],
   "source": [
    "import dis\n",
    "dis.dis(\"print('hello world')\")"
   ]
  },
  {
   "cell_type": "markdown",
   "metadata": {
    "slideshow": {
     "slide_type": "fragment"
    }
   },
   "source": [
    "Notes : \n",
    "\n",
    "- Même lorsqu'on travaille dans un shell interactif, ce bytecode est généré puis executé\n",
    "- Ce bytecode est caché pour gagné en temps d'execution"
   ]
  },
  {
   "cell_type": "markdown",
   "metadata": {
    "slideshow": {
     "slide_type": "subslide"
    }
   },
   "source": [
    "## Interpréteurs"
   ]
  },
  {
   "cell_type": "markdown",
   "metadata": {
    "slideshow": {
     "slide_type": "fragment"
    }
   },
   "source": [
    "- L'interpreteur officiellement maintenu, qui est le plus connu et utilisé est CPython\n",
    "- Il existe des interpreteurs alternatifs (pypy, jython etc...)"
   ]
  },
  {
   "cell_type": "markdown",
   "metadata": {
    "slideshow": {
     "slide_type": "slide"
    }
   },
   "source": [
    "## Language dynamique\n",
    "On peut **tout** (ou presque) changer à la volée.\n",
    "Exemple :"
   ]
  },
  {
   "cell_type": "code",
   "execution_count": null,
   "metadata": {
    "slideshow": {
     "slide_type": "fragment"
    }
   },
   "outputs": [],
   "source": [
    "class CoffeeMachine:\n",
    "    @staticmethod\n",
    "    def do_coffee():\n",
    "        print(\"I do coffee\")\n",
    "CoffeeMachine.do_coffee()"
   ]
  },
  {
   "cell_type": "code",
   "execution_count": null,
   "metadata": {
    "slideshow": {
     "slide_type": "fragment"
    }
   },
   "outputs": [],
   "source": [
    "def do_nothing():\n",
    "    print(\"I do nothing\")\n",
    "CoffeeMachine.do_coffee = do_nothing\n",
    "CoffeeMachine.do_coffee()"
   ]
  },
  {
   "cell_type": "markdown",
   "metadata": {},
   "source": [
    "## Language \"haut niveau\"\n",
    "\n",
    "En python, on n'effectue pas d'allocation/désallocation de mémoire."
   ]
  },
  {
   "cell_type": "markdown",
   "metadata": {
    "slideshow": {
     "slide_type": "subslide"
    }
   },
   "source": [
    "## Language dynamiquement typé"
   ]
  },
  {
   "cell_type": "code",
   "execution_count": null,
   "metadata": {
    "slideshow": {
     "slide_type": "fragment"
    }
   },
   "outputs": [],
   "source": [
    "a = \"hello\"  # pas necessaire d'indiquer le type\n",
    "print(type(a))"
   ]
  },
  {
   "cell_type": "code",
   "execution_count": null,
   "metadata": {
    "slideshow": {
     "slide_type": "fragment"
    }
   },
   "outputs": [],
   "source": [
    "a = 5\n",
    "# reassociation du nom \"a\" à une nouvelle valeur d'un autre type\n",
    "print(type(a))"
   ]
  },
  {
   "cell_type": "code",
   "execution_count": null,
   "metadata": {
    "slideshow": {
     "slide_type": "subslide"
    }
   },
   "outputs": [],
   "source": [
    "def myfunction(an_argument_with_unknown_type):\n",
    "    print(an_argument_with_unknown_type)"
   ]
  },
  {
   "cell_type": "code",
   "execution_count": null,
   "metadata": {
    "slideshow": {
     "slide_type": "fragment"
    }
   },
   "outputs": [],
   "source": [
    "myfunction(\"bbb\")"
   ]
  },
  {
   "cell_type": "code",
   "execution_count": null,
   "metadata": {
    "slideshow": {
     "slide_type": "fragment"
    }
   },
   "outputs": [],
   "source": [
    "myfunction([\"1\", 2])"
   ]
  },
  {
   "cell_type": "markdown",
   "metadata": {
    "slideshow": {
     "slide_type": "subslide"
    }
   },
   "source": [
    "## Pas de coertion automatique"
   ]
  },
  {
   "cell_type": "code",
   "execution_count": null,
   "metadata": {
    "slideshow": {
     "slide_type": "subslide"
    }
   },
   "outputs": [],
   "source": [
    "print(\"a\" + \"b\")"
   ]
  },
  {
   "cell_type": "code",
   "execution_count": null,
   "metadata": {},
   "outputs": [],
   "source": [
    "print(\"a\" + 1)  #TypeError: must be str, not int"
   ]
  },
  {
   "cell_type": "markdown",
   "metadata": {},
   "source": [
    "Contrairement à javascript ..."
   ]
  },
  {
   "cell_type": "markdown",
   "metadata": {
    "slideshow": {
     "slide_type": "subslide"
    }
   },
   "source": [
    "## Autres particularités (récentes)\n",
    "\n",
    "- Orienté objet : tout est objet\n",
    "- Annotation de type possibles (depuis python 3.6)\n",
    "- Mono thread, même en utilisant le module dédié au multithreading (!)\n",
    "- Asynchronie possible (librairies spécialisées ou utilisation des mots clefs async/await)"
   ]
  },
  {
   "cell_type": "markdown",
   "metadata": {
    "slideshow": {
     "slide_type": "slide"
    }
   },
   "source": [
    "## Comparaison avec Java\n",
    "\n",
    "quelles différences ?"
   ]
  },
  {
   "cell_type": "markdown",
   "metadata": {
    "slideshow": {
     "slide_type": "fragment"
    }
   },
   "source": [
    "![./images/comparison_java_python.png](./images/comparison_java_python.png)"
   ]
  },
  {
   "cell_type": "markdown",
   "metadata": {
    "slideshow": {
     "slide_type": "fragment"
    }
   },
   "source": [
    "Liste :\n",
    "\n",
    "- mots clef `def`\n",
    "- pas de notion de public/private\n",
    "- pas de typage obligatoire des \"variables\"\n",
    "- signature de fonction facultative (type des arguments, valeur de retour)\n",
    "- boucle for différente : `for x in iterable`\n",
    "- l'indentation (4 espaces blanc) défini les blocs\n",
    "- pas de \";\""
   ]
  },
  {
   "cell_type": "markdown",
   "metadata": {
    "slideshow": {
     "slide_type": "slide"
    }
   },
   "source": [
    "## Philosophie de python"
   ]
  },
  {
   "cell_type": "code",
   "execution_count": null,
   "metadata": {},
   "outputs": [],
   "source": [
    "# easter egg dans la librairie standard\n",
    "import this"
   ]
  },
  {
   "cell_type": "markdown",
   "metadata": {},
   "source": [
    "- \"We are all consenting adult here\" sur l'absence de variable réellement privée.\n",
    "- \"Batteries included\" (large librairie standard, le cours n'en couvrira pas 2%).\n",
    "- Importance des tests.\n",
    "- Respect des règles de style (cf Pep8)\n",
    "- Mais aussi : duck typing, EAF ...\n",
    "- ecosystème de packages installables de bonne qualité."
   ]
  },
  {
   "cell_type": "code",
   "execution_count": null,
   "metadata": {},
   "outputs": [],
   "source": [
    "# easter egg dans la librairie standard\n",
    "import antigravity"
   ]
  },
  {
   "cell_type": "markdown",
   "metadata": {
    "slideshow": {
     "slide_type": "slide"
    }
   },
   "source": [
    "## Environnement virtuel"
   ]
  },
  {
   "cell_type": "markdown",
   "metadata": {
    "slideshow": {
     "slide_type": "subslide"
    }
   },
   "source": [
    "Une des principales difficultés des débutants. \n",
    "\n",
    "Comment installer un package uploadé sur pipy.org :\n",
    "\n",
    "- `pip install django`\n",
    "- Installation globale, dans un dossier propre à la version courante de python installée sur le système\n",
    "\n",
    "**Quelle est le problème ?**"
   ]
  },
  {
   "cell_type": "markdown",
   "metadata": {
    "slideshow": {
     "slide_type": "subslide"
    }
   },
   "source": [
    "- Problèmes :\n",
    "    - On préfère des installations locales à un projet (pour obtenir et les lister avec leurs bons numéro de version)\n",
    "    - Un projet utilise une version unique de python (ex 3.7), mais plusieurs versions sont souvent installés. \n",
    "    "
   ]
  },
  {
   "cell_type": "markdown",
   "metadata": {
    "slideshow": {
     "slide_type": "subslide"
    }
   },
   "source": [
    "**Quelle est la solution ?**"
   ]
  },
  {
   "cell_type": "markdown",
   "metadata": {
    "slideshow": {
     "slide_type": "subslide"
    }
   },
   "source": [
    "- Solution : \n",
    "    - Construire un dossier propre au projet sur lequel vous travaillez\n",
    "    - qui \"ressemble\" à une installation \"système\" de python "
   ]
  },
  {
   "cell_type": "markdown",
   "metadata": {
    "slideshow": {
     "slide_type": "subslide"
    }
   },
   "source": [
    "- Ces dossiers s'apellent des **environnements virtuels**. \n",
    "- Ils se **génèrent** et s'**activent** avec des outils dédiés (plusieurs possibilités) \n",
    "- Lorsqu'un environnemnet virtuel est activé :\n",
    "    - `python` pointe vers la bonne version\n",
    "    - `pip install` installe au bon endroit"
   ]
  },
  {
   "cell_type": "markdown",
   "metadata": {
    "slideshow": {
     "slide_type": "subslide"
    }
   },
   "source": [
    "Règles à respecter dans le développement local :\n",
    "- Avoir la bonne version de python installée sur votre système.\n",
    "- Avoir créé un environnement virtuel dédié au projet\n",
    "- Travailler (installer, executer etc...) dans un terminal dans lequel un environnement virtuel a été activé."
   ]
  },
  {
   "cell_type": "markdown",
   "metadata": {
    "slideshow": {
     "slide_type": "subslide"
    }
   },
   "source": [
    "Démonstration (dans le terminal) avec l'outil venv"
   ]
  },
  {
   "cell_type": "markdown",
   "metadata": {
    "slideshow": {
     "slide_type": "subslide"
    }
   },
   "source": [
    "Développer directement avec Docker : \n",
    "- Peut epargner la manipulation d'environnement virtuel\n",
    "- Mais développer devient un plus compliqué\n",
    "\n",
    "Tant que c'est possible, avoir en paralèlle :\n",
    "- un environnement virtuel\n",
    "- un environnement \"dédié\" utilisant docker "
   ]
  },
  {
   "cell_type": "markdown",
   "metadata": {
    "slideshow": {
     "slide_type": "slide"
    }
   },
   "source": [
    "## Ecosystème"
   ]
  },
  {
   "cell_type": "markdown",
   "metadata": {
    "slideshow": {
     "slide_type": "subslide"
    }
   },
   "source": [
    "## Python 3\n",
    "\n",
    "- Python 3 a de nombreuses incompatibilités avec Python 2, ce qui a été mal vécu.\n",
    "- Aujourd'hui l'adoption de Python 3 est large (83% selon le PSF survey).\n",
    "- Des évolutions importantes :\n",
    "    - Meilleures performances\n",
    "    - Mots clefs async/await pour renforcer l'asynchronisme\n",
    "    - Typage optionnel\n",
    "- Guido démissionne de son poste de BDFL. Un groupe de plusieurs personnes le remplace."
   ]
  },
  {
   "cell_type": "markdown",
   "metadata": {},
   "source": [
    "## Performances\n",
    "\n",
    "- Moindre que Java ainsi que les languages bas niveau ou/et compilés.\n",
    "- Mais integration possible avec des librairies C performantes (ex: Numpy)"
   ]
  },
  {
   "cell_type": "markdown",
   "metadata": {
    "slideshow": {
     "slide_type": "subslide"
    }
   },
   "source": [
    "## Ressources conseillées pour python\n",
    "\n",
    "- Installation : https://www.python.org/downloads/\n",
    "- IDEs les plus populaires :\n",
    "    - Pycharm \n",
    "    - Vscode + python plugin\n",
    "- Selections de ressources :\n",
    "    - En ligne :\n",
    "        - http://www.sololearn.com/Play/Python\n",
    "        - https://www.diveinto.org/python3\n",
    "    - Livres :\n",
    "        - Automate the boring stuff (livre pour débutants)\n",
    "        - Fluent Python (livre pour confirmés)\n",
    "    "
   ]
  },
  {
   "cell_type": "markdown",
   "metadata": {
    "slideshow": {
     "slide_type": "subslide"
    }
   },
   "source": [
    "## Ressources conseillées pour Django\n",
    "\n",
    "En ligne :\n",
    " - Tutorial officiel ou celui sur django girls\n",
    "Livre :\n",
    "  - Two scoops of Django (pour confirmés)\n",
    "  - Obey The Testing Goat (pour les curieux ou amateurs de TDD)"
   ]
  },
  {
   "cell_type": "markdown",
   "metadata": {
    "slideshow": {
     "slide_type": "subslide"
    }
   },
   "source": [
    "## Frameworks web (selection)\n",
    "\n",
    "- Micro frameworks populaires\n",
    "    - **flask** (sync)\n",
    "    - sanic (async)\n",
    "    - responder (async)\n",
    "\n",
    "- \"Full Stack\" frameworks populaires\n",
    "    - **django** (sync)\n",
    "    - **django-channels** (async)"
   ]
  },
  {
   "cell_type": "markdown",
   "metadata": {
    "slideshow": {
     "slide_type": "subslide"
    }
   },
   "source": [
    "![./images/python_frameworks.png](./images/python_frameworks.png)"
   ]
  },
  {
   "cell_type": "markdown",
   "metadata": {
    "slideshow": {
     "slide_type": "fragment"
    }
   },
   "source": [
    "**note** : Large domination de Flask et Django, mais arrivée fulgurantes (certes listées au dessus) des alternatives asynchrones. \n",
    "\n",
    "L'asynchronisme est dans la roadmap de Django mais pas de Flask."
   ]
  },
  {
   "cell_type": "markdown",
   "metadata": {},
   "source": [
    "## Python est installé, now what ?"
   ]
  },
  {
   "cell_type": "markdown",
   "metadata": {},
   "source": [
    "**demonstration au tableau**\n",
    "\n",
    "- Dans votre terminal `$ python` invoque le REPL (shell interactif). Vous pouvez jouer avec.\n",
    "- Ecrire un fichier `hello.py` contenant l'instruction `print(\"hello world\")` et executer dans votre terminal `python hello.py`"
   ]
  },
  {
   "cell_type": "code",
   "execution_count": null,
   "metadata": {},
   "outputs": [],
   "source": []
  }
 ],
 "metadata": {
  "celltoolbar": "Slideshow",
  "kernelspec": {
   "display_name": "Python 3",
   "language": "python",
   "name": "python3"
  },
  "language_info": {
   "codemirror_mode": {
    "name": "ipython",
    "version": 3
   },
   "file_extension": ".py",
   "mimetype": "text/x-python",
   "name": "python",
   "nbconvert_exporter": "python",
   "pygments_lexer": "ipython3",
   "version": "3.6.7"
  }
 },
 "nbformat": 4,
 "nbformat_minor": 2
}
