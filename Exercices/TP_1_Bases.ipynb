{
 "cells": [
  {
   "cell_type": "markdown",
   "metadata": {},
   "source": [
    "Instructions : \n",
    "- Importer ce notebook en utilisant https://colab.research.google.com/notebook . Ce lien d'import devrait fonctionner : https://colab.research.google.com/github/brumar/enseignements_python_epita/blob/master/Exercices/TP_1_Bases.ipynb\n",
    "- Créer une copie personelle\n",
    "- Ajoutez votre nom ci-dessous\n",
    "- Compléter les cellules et vérifier que les tests passent.\n",
    "- Avec le bouton \"share\", partagez moi le résultat (avant samedi soir)\n",
    "\n",
    "Vous pouvez ne pas utiliser l'outil de google, auquel cas, vous devez installer jupyter par vous même et me renvoyer le notebook complété par mail ou en m'invitant à un depôt Github ou Bitbucket qui contient votre fichier"
   ]
  },
  {
   "cell_type": "markdown",
   "metadata": {},
   "source": [
    "**Important : Ecrire votre nom ici**\n",
    "\n",
    "NOM : "
   ]
  },
  {
   "cell_type": "markdown",
   "metadata": {},
   "source": [
    "## 1"
   ]
  },
  {
   "cell_type": "code",
   "execution_count": null,
   "metadata": {},
   "outputs": [],
   "source": [
    "# NE PAS MODIFIER - INITIALISATION\n",
    "initial_list = [1 , 7, 9, 11, 34]"
   ]
  },
  {
   "cell_type": "code",
   "execution_count": null,
   "metadata": {},
   "outputs": [],
   "source": [
    "# ECRIRE ICI\n",
    "\n",
    "# En utilisant une boucle for, \n",
    "# créér une nouvelle liste, new_list qui contient tous les éléments de la première liste au carré\n"
   ]
  },
  {
   "cell_type": "code",
   "execution_count": null,
   "metadata": {},
   "outputs": [],
   "source": [
    "# NE PAS MODIFIER - VERIFICATION\n",
    "assert new_list == [1, 49, 81, 121, 1156]"
   ]
  },
  {
   "cell_type": "markdown",
   "metadata": {},
   "source": [
    "## 2"
   ]
  },
  {
   "cell_type": "code",
   "execution_count": null,
   "metadata": {},
   "outputs": [],
   "source": [
    "# NE PAS MODIFIER - INITIALISATION\n",
    "initial_list = [1 , 7, 9, 11, 34]"
   ]
  },
  {
   "cell_type": "code",
   "execution_count": null,
   "metadata": {},
   "outputs": [],
   "source": [
    "# ECRIRE ICI\n",
    "\n",
    "# créér une nouvelle liste, new_list2 qui contient tous les éléments de la première liste au carré\n",
    "# Même exercice que précédement mais en utilisant les list comprehensions."
   ]
  },
  {
   "cell_type": "code",
   "execution_count": null,
   "metadata": {},
   "outputs": [],
   "source": [
    "# NE PAS MODIFIER - VERIFICATION\n",
    "assert new_list_2 == [1, 49, 81, 121, 1156]"
   ]
  },
  {
   "cell_type": "markdown",
   "metadata": {},
   "source": [
    "## 3"
   ]
  },
  {
   "cell_type": "code",
   "execution_count": null,
   "metadata": {},
   "outputs": [],
   "source": [
    "# ECRIRE ICI\n",
    "\n",
    "# Ecrire une fonction nommée \"count_seven\" qui\" compte le nombre de 7 dans une liste."
   ]
  },
  {
   "cell_type": "code",
   "execution_count": null,
   "metadata": {},
   "outputs": [],
   "source": [
    "# NE PAS MODIFIER - VERIFICATION\n",
    "count_seven([1, 7, 9, 7, 34, 7, 23, 45]) == 3\n",
    "count_seven([11, 57, 9, 67, 34, 27, 23, 45]) == 0"
   ]
  },
  {
   "cell_type": "markdown",
   "metadata": {},
   "source": [
    "## 4.1"
   ]
  },
  {
   "cell_type": "code",
   "execution_count": null,
   "metadata": {},
   "outputs": [],
   "source": [
    "# ECRIRE ICI\n",
    "\n",
    "# Ecrire une fonction, count_outliers qui liste les mots les d'un texte (premier argument) dépassant une taille fixée (deuxième argument)\n",
    "# Vous pouvez vous aider de cette fonction\n",
    "import re\n",
    "def word_splitter(text):\n",
    "    return re.findall(r\"\\b\\w+\\b\", text)\n",
    "    "
   ]
  },
  {
   "cell_type": "code",
   "execution_count": null,
   "metadata": {},
   "outputs": [],
   "source": [
    "# NE PAS MODIFIER - VERIFICATION\n",
    "text1 = \"this is a short text with short words, except this one : unconstitutional\"\n",
    "text2 = \"this test contains only words of moderate length\"\n",
    "\n",
    "assert count_outliers(text=text1, length_max=10) == 1\n",
    "assert count_outliers(text=text2, length_max=5) == 3"
   ]
  },
  {
   "cell_type": "markdown",
   "metadata": {},
   "source": [
    "## 4.2"
   ]
  },
  {
   "cell_type": "code",
   "execution_count": null,
   "metadata": {},
   "outputs": [],
   "source": [
    "# ECRIRE ICI\n",
    "\n",
    "# Adapter l'exemple précédent pour faire en sorte que la taille max de count_outlierspar défaut soit 5"
   ]
  },
  {
   "cell_type": "code",
   "execution_count": null,
   "metadata": {},
   "outputs": [],
   "source": [
    "assert count_outliers(text=text1, length_max=10) == 1\n",
    "assert count_outliers(text=text2) == 3"
   ]
  },
  {
   "cell_type": "markdown",
   "metadata": {},
   "source": [
    "## 4.2"
   ]
  },
  {
   "cell_type": "code",
   "execution_count": null,
   "metadata": {},
   "outputs": [],
   "source": [
    "# ECRIRE ICI\n",
    "\n",
    "# Adapter l'exemple précédent en version orientée objet\n",
    "# Définir une classe OutlierCounter telle que les tests ci dessous passent"
   ]
  },
  {
   "cell_type": "code",
   "execution_count": null,
   "metadata": {},
   "outputs": [],
   "source": [
    "count_outliers = OutlierCounter(length_max=10)\n",
    "assert count_outliers.count(text1) == 1\n",
    "\n",
    "count_outliers.length_max = 5\n",
    "assert count_outliers.count(text2) == 3"
   ]
  },
  {
   "cell_type": "markdown",
   "metadata": {},
   "source": [
    "## 5 "
   ]
  },
  {
   "cell_type": "code",
   "execution_count": null,
   "metadata": {},
   "outputs": [],
   "source": [
    "# ECRIRE ICI\n",
    "\n",
    "# Implémenter une classe Bus telle que les tests écrits ci-dessous passent"
   ]
  },
  {
   "cell_type": "code",
   "execution_count": null,
   "metadata": {},
   "outputs": [],
   "source": [
    "# NE PAS MODIFIER - VERIFICATION\n",
    "\n",
    "bus1 = Bus(['Alice', 'Bill'])\n",
    "assert bus1.passengers == ['Alice', 'Bill']\n",
    "\n",
    "bus1.pick('Charlie')\n",
    "bus1.drop('Alice')\n",
    "assert bus1.passengers == ['Charlie', 'Bill']"
   ]
  },
  {
   "cell_type": "markdown",
   "metadata": {},
   "source": [
    "## 6 (difficile)"
   ]
  },
  {
   "cell_type": "code",
   "execution_count": null,
   "metadata": {},
   "outputs": [],
   "source": [
    "# ECRIRE ICI\n",
    "\n",
    "# Ecrire un decorateur apellé preventnone (rappel : une fonction qui prend et retourne une fonction)\n",
    "# Qui soulève une exception si des arguments vaut None"
   ]
  },
  {
   "cell_type": "code",
   "execution_count": null,
   "metadata": {},
   "outputs": [],
   "source": [
    "# NE PAS MODIFIER - VERIFICATION\n",
    "@preventnone\n",
    "def myfunction(a, b, c, d=True):\n",
    "    print(a, b, c ,d)\n",
    "myfunction(1,2,3,4)"
   ]
  },
  {
   "cell_type": "code",
   "execution_count": null,
   "metadata": {},
   "outputs": [],
   "source": [
    "# NE PAS MODIFIER - VERIFICATION\n",
    "myfunction(1,2,3,None)  # shoud raise an exception"
   ]
  },
  {
   "cell_type": "code",
   "execution_count": null,
   "metadata": {},
   "outputs": [],
   "source": [
    "# NE PAS MODIFIER - VERIFICATION\n",
    "myfunction(None)  # shoud raise an exception"
   ]
  },
  {
   "cell_type": "code",
   "execution_count": null,
   "metadata": {},
   "outputs": [],
   "source": [
    "# NE PAS MODIFIER - VERIFICATION\n",
    "myfunction(d=None)  # shoud raise an exception"
   ]
  },
  {
   "cell_type": "code",
   "execution_count": null,
   "metadata": {},
   "outputs": [],
   "source": []
  }
 ],
 "metadata": {
  "kernelspec": {
   "display_name": "Python 3",
   "language": "python",
   "name": "python3"
  },
  "language_info": {
   "codemirror_mode": {
    "name": "ipython",
    "version": 3
   },
   "file_extension": ".py",
   "mimetype": "text/x-python",
   "name": "python",
   "nbconvert_exporter": "python",
   "pygments_lexer": "ipython3",
   "version": "3.6.7"
  }
 },
 "nbformat": 4,
 "nbformat_minor": 2
}
