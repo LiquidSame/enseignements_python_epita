{
  "nbformat": 4,
  "nbformat_minor": 0,
  "metadata": {
    "colab": {
      "name": "TP_2_Classes.ipynb",
      "version": "0.3.2",
      "provenance": []
    },
    "kernelspec": {
      "display_name": "Python 3",
      "language": "python",
      "name": "python3"
    }
  },
  "cells": [
    {
      "metadata": {
        "id": "hCpOGKdenfzk",
        "colab_type": "text"
      },
      "cell_type": "markdown",
      "source": [
        "Instructions : \n",
        "- Importer ce notebook en utilisant https://colab.research.google.com/notebook . Ce lien d'import devrait fonctionner : https://colab.research.google.com/github/brumar/enseignements_python_epita/blob/master/Exercices/TP_2_Classes.ipynb\n",
        "- Créer une copie personelle\n",
        "- Ajoutez votre nom ci-dessous\n",
        "- Compléter les cellules et vérifier que les tests passent.\n",
        "- Avec le bouton \"share\", partagez moi le résultat (avant samedi soir)"
      ]
    },
    {
      "metadata": {
        "id": "S5IAjYl4nfzv",
        "colab_type": "text"
      },
      "cell_type": "markdown",
      "source": [
        "**Important : Ecrire vos deux noms ici**\n",
        "\n",
        "- NOM : \n",
        "- NOM : "
      ]
    },
    {
      "metadata": {
        "id": "cFKSI8n0Uj0k",
        "colab_type": "text"
      },
      "cell_type": "markdown",
      "source": [
        "Mise en situation : votre équipe travaille sur un jeu de cartes en ligne. Le Lead Developper vous donne ces consignes. \n",
        "\n",
        "> \" On aurait besoin d'une classe HandCards, qui permettrait de simuler la main d'un joueur. On aimerait pouvoir l'initialiser avec une liste de cartes et un nom de joueur. Ce qui serait vraiment bien c'est d'avoir des méthodes pour ajouter et enlever des cartes de la main. Dans le jeu auquel on pense, l'ordre des cartes a de l'importance, et certaines actions du jeu pourrait pousser à les mélanger. Ce serait bien si on pouvait apeller directement `shuffle(player_hand)`. Pour les supressions et les ajouts on aimerait aussi pouvoir faire des operations comme `del player_hand[2]` ou encore `player_hand[3]=\"nouvelle_carte\"`. On aimerait bien pouvoir directement utiliser les opérateurs python de base comme le \"+\" et le \"-\" pour ajouter ou elenver un ou plusieurs cartes de la main. Il me semble qu'en implémentant les bons \"dunders\" (https://docs.python.org/3/library/collections.abc.html#collections-abstract-base-classes) on peut arriver à ça non ? Si des actions ne sont pas possibles, il faudrait soulever une exception qui porte un nom qu'on comprenne bien comme IllegalActionException. Je crois qu'on peut créer ses propres exceptions en python non ? Ah aussi, j'aimerais bien pouvoir utiliser des choses comme `\"cettecarte\" in player_hand` pour savoir si une carte est dans la main d'un joueur. Ah, dernier point, ce serait bien que tu fournisses une base de test pour bien vérifier que les opérations que je t'ai demandé fonctionnent bien. Et bien sûr, si tu trouves des methodes sympa à implémenter auquel je n'ai pas pensé, fonce !\"\n",
        "\n",
        "\n",
        "Consignes supplémentaires : \n",
        "- A effectuer en Binôme si c'est possible. Fonctionnez de manière iterative. L'un écrit un test, l'autre le fait passer, puis vous échangez de rôle.\n",
        "- HandCards n'utilisera pas d'héritage\n",
        "- Pour les tests, ne cherchez pas la sophistication. Une série d'instructions et de `assert` à la fin de votre notebook suffiront."
      ]
    },
    {
      "metadata": {
        "id": "1Fs7jp1QZ9WP",
        "colab_type": "code",
        "colab": {}
      },
      "cell_type": "code",
      "source": [
        ""
      ],
      "execution_count": 0,
      "outputs": []
    }
  ]
}