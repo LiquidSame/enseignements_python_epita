{
  "nbformat": 4,
  "nbformat_minor": 0,
  "metadata": {
    "colab": {
      "name": "TP_1_Bases.ipynb",
      "version": "0.3.2",
      "provenance": [],
      "include_colab_link": true
    },
    "kernelspec": {
      "display_name": "Python 3",
      "language": "python",
      "name": "python3"
    }
  },
  "cells": [
    {
      "cell_type": "markdown",
      "metadata": {
        "id": "view-in-github",
        "colab_type": "text"
      },
      "source": [
        "<a href=\"https://colab.research.google.com/github/brumar/enseignements_python_epita/blob/master/TP_1_Bases_Solution.ipynb\" target=\"_parent\"><img src=\"https://colab.research.google.com/assets/colab-badge.svg\" alt=\"Open In Colab\"/></a>"
      ]
    },
    {
      "metadata": {
        "id": "hCpOGKdenfzk",
        "colab_type": "text"
      },
      "cell_type": "markdown",
      "source": [
        "Instructions : \n",
        "- Importer ce notebook en utilisant https://colab.research.google.com/notebook . Ce lien d'import devrait fonctionner : https://colab.research.google.com/github/brumar/enseignements_python_epita/blob/master/Exercices/TP_1_Bases.ipynb\n",
        "- Créer une copie personelle\n",
        "- Ajoutez votre nom ci-dessous\n",
        "- Compléter les cellules et vérifier que les tests passent.\n",
        "- Avec le bouton \"share\", partagez moi le résultat (avant samedi soir)\n",
        "\n",
        "Vous pouvez ne pas utiliser l'outil de google, auquel cas, vous devez installer jupyter par vous même et me renvoyer le notebook complété par mail ou en m'invitant à un depôt Github ou Bitbucket qui contient votre fichier"
      ]
    },
    {
      "metadata": {
        "id": "S5IAjYl4nfzv",
        "colab_type": "text"
      },
      "cell_type": "markdown",
      "source": [
        "**Important : Ecrire votre nom ici**\n",
        "\n",
        "NOM : MAAYOUFI Amine"
      ]
    },
    {
      "metadata": {
        "id": "x31dI798nfz5",
        "colab_type": "text"
      },
      "cell_type": "markdown",
      "source": [
        "## 1"
      ]
    },
    {
      "metadata": {
        "id": "SIqBWpJSnf0C",
        "colab_type": "code",
        "colab": {}
      },
      "cell_type": "code",
      "source": [
        "# NE PAS MODIFIER - INITIALISATION\n",
        "initial_list = [1 , 7, 9, 11, 34]"
      ],
      "execution_count": 0,
      "outputs": []
    },
    {
      "metadata": {
        "id": "N3S6ZDmwnf0g",
        "colab_type": "code",
        "colab": {}
      },
      "cell_type": "code",
      "source": [
        "# ECRIRE ICI\n",
        "new_list = []\n",
        "for i in initial_list:\n",
        "    new_list.append(i ** 2)\n",
        "\n",
        "# En utilisant une boucle for, \n",
        "# créér une nouvelle liste, new_list qui contient tous les éléments de la première liste au carré\n"
      ],
      "execution_count": 0,
      "outputs": []
    },
    {
      "metadata": {
        "id": "tjZyxZa-nf02",
        "colab_type": "code",
        "colab": {}
      },
      "cell_type": "code",
      "source": [
        "# NE PAS MODIFIER - VERIFICATION\n",
        "assert new_list == [1, 49, 81, 121, 1156]"
      ],
      "execution_count": 0,
      "outputs": []
    },
    {
      "metadata": {
        "id": "_fyR7upfnf12",
        "colab_type": "text"
      },
      "cell_type": "markdown",
      "source": [
        "## 2"
      ]
    },
    {
      "metadata": {
        "id": "QRljz92bnf1_",
        "colab_type": "code",
        "colab": {}
      },
      "cell_type": "code",
      "source": [
        "# NE PAS MODIFIER - INITIALISATION\n",
        "initial_list = [1 , 7, 9, 11, 34]"
      ],
      "execution_count": 0,
      "outputs": []
    },
    {
      "metadata": {
        "id": "oTxB5T_Cnf2Z",
        "colab_type": "code",
        "colab": {}
      },
      "cell_type": "code",
      "source": [
        "# ECRIRE ICI\n",
        "new_list_2 = [i ** 2 for i in initial_list]\n",
        "\n",
        "# créér une nouvelle liste, new_list2 qui contient tous les éléments de la première liste au carré\n",
        "# Même exercice que précédement mais en utilisant les list comprehensions."
      ],
      "execution_count": 0,
      "outputs": []
    },
    {
      "metadata": {
        "id": "YD0uXTs1nf2w",
        "colab_type": "code",
        "colab": {}
      },
      "cell_type": "code",
      "source": [
        "# NE PAS MODIFIER - VERIFICATION\n",
        "assert new_list_2 == [1, 49, 81, 121, 1156]"
      ],
      "execution_count": 0,
      "outputs": []
    },
    {
      "metadata": {
        "id": "mirbCJw1nf3J",
        "colab_type": "text"
      },
      "cell_type": "markdown",
      "source": [
        "## 3"
      ]
    },
    {
      "metadata": {
        "id": "GTuAzSpbnf3S",
        "colab_type": "code",
        "colab": {}
      },
      "cell_type": "code",
      "source": [
        "# ECRIRE ICI\n",
        "def count_seven(l):\n",
        "    return l.count(7)\n",
        "\n",
        "# Ecrire une fonction nommée \"count_seven\" qui\" compte le nombre de 7 dans une liste."
      ],
      "execution_count": 0,
      "outputs": []
    },
    {
      "metadata": {
        "id": "2NC7w5Mdnf33",
        "colab_type": "code",
        "colab": {}
      },
      "cell_type": "code",
      "source": [
        "# NE PAS MODIFIER - VERIFICATION\n",
        "count_seven([1, 7, 9, 7, 34, 7, 23, 45]) == 3\n",
        "count_seven([11, 57, 9, 67, 34, 27, 23, 45]) == 0"
      ],
      "execution_count": 0,
      "outputs": []
    },
    {
      "metadata": {
        "id": "jzbtuC56nf4Y",
        "colab_type": "text"
      },
      "cell_type": "markdown",
      "source": [
        "## 4.1"
      ]
    },
    {
      "metadata": {
        "id": "Fi5lGUTMnf4h",
        "colab_type": "code",
        "colab": {}
      },
      "cell_type": "code",
      "source": [
        "# ECRIRE ICI\n",
        "def count_outliers(text, length_max):\n",
        "    return sum(1 for word in word_splitter(text) if len(word) > length_max)\n",
        "\n",
        "# Ecrire une fonction, count_outliers qui liste les mots les d'un texte (premier argument) dépassant une taille fixée (deuxième argument)\n",
        "# Vous pouvez vous aider de cette fonction\n",
        "import re\n",
        "def word_splitter(text):\n",
        "    return re.findall(r\"\\b\\w+\\b\", text)\n",
        "    "
      ],
      "execution_count": 0,
      "outputs": []
    },
    {
      "metadata": {
        "id": "OpaAjYIqnf44",
        "colab_type": "code",
        "colab": {}
      },
      "cell_type": "code",
      "source": [
        "# NE PAS MODIFIER - VERIFICATION\n",
        "text1 = \"this is a short text with short words, except this one : unconstitutional\"\n",
        "text2 = \"this test contains only words of moderate length\"\n",
        "\n",
        "assert count_outliers(text=text1, length_max=10) == 1\n",
        "assert count_outliers(text=text2, length_max=5) == 3"
      ],
      "execution_count": 0,
      "outputs": []
    },
    {
      "metadata": {
        "id": "749gRmdfnf5Q",
        "colab_type": "text"
      },
      "cell_type": "markdown",
      "source": [
        "## 4.2"
      ]
    },
    {
      "metadata": {
        "id": "pUs2Umhgnf5X",
        "colab_type": "code",
        "colab": {}
      },
      "cell_type": "code",
      "source": [
        "# ECRIRE ICI\n",
        "def count_outliers(text, length_max = 5):\n",
        "    return sum(1 for word in word_splitter(text) if len(word) > length_max)\n",
        "\n",
        "# Adapter l'exemple précédent pour faire en sorte que la taille max de count_outlierspar défaut soit 5"
      ],
      "execution_count": 0,
      "outputs": []
    },
    {
      "metadata": {
        "id": "JOP0vQhgnf5w",
        "colab_type": "code",
        "colab": {}
      },
      "cell_type": "code",
      "source": [
        "assert count_outliers(text=text1, length_max=10) == 1\n",
        "assert count_outliers(text=text2) == 3"
      ],
      "execution_count": 0,
      "outputs": []
    },
    {
      "metadata": {
        "id": "UO_eIj6pnf6I",
        "colab_type": "text"
      },
      "cell_type": "markdown",
      "source": [
        "## 4.2"
      ]
    },
    {
      "metadata": {
        "id": "4cVo2oPdnf6Q",
        "colab_type": "code",
        "colab": {}
      },
      "cell_type": "code",
      "source": [
        "# ECRIRE ICI\n",
        "class OutlierCounter:\n",
        "    def __init__(self, length_max=5):\n",
        "        self.length_max = length_max\n",
        "        \n",
        "    def count(self, text):\n",
        "        return sum(1 for word in word_splitter(text) if len(word) > self.length_max)\n",
        "\n",
        "# Adapter l'exemple précédent en version orientée objet\n",
        "# Définir une classe OutlierCounter telle que les tests ci dessous passent"
      ],
      "execution_count": 0,
      "outputs": []
    },
    {
      "metadata": {
        "id": "AvdgcU_5nf6n",
        "colab_type": "code",
        "colab": {}
      },
      "cell_type": "code",
      "source": [
        "count_outliers = OutlierCounter(length_max=10)\n",
        "assert count_outliers.count(text1) == 1\n",
        "\n",
        "count_outliers.length_max = 5\n",
        "assert count_outliers.count(text2) == 3"
      ],
      "execution_count": 0,
      "outputs": []
    },
    {
      "metadata": {
        "id": "jyGN9WXVnf67",
        "colab_type": "text"
      },
      "cell_type": "markdown",
      "source": [
        "## 5 "
      ]
    },
    {
      "metadata": {
        "id": "JDDKjdyynf7I",
        "colab_type": "code",
        "colab": {}
      },
      "cell_type": "code",
      "source": [
        "# ECRIRE ICI\n",
        "class Bus:\n",
        "    def __init__(self, passengers):\n",
        "        self.passengers = passengers\n",
        "        \n",
        "    def pick(self, name):\n",
        "        self.passengers.insert(0, name)\n",
        "        \n",
        "    def drop(self, name):\n",
        "        self.passengers.remove(name)\n",
        "\n",
        "# Implémenter une classe Bus telle que les tests écrits ci-dessous passent"
      ],
      "execution_count": 0,
      "outputs": []
    },
    {
      "metadata": {
        "id": "qOSHnU7Xnf7p",
        "colab_type": "code",
        "colab": {}
      },
      "cell_type": "code",
      "source": [
        "# NE PAS MODIFIER - VERIFICATION\n",
        "\n",
        "bus1 = Bus(['Alice', 'Bill'])\n",
        "assert bus1.passengers == ['Alice', 'Bill']\n",
        "\n",
        "bus1.pick('Charlie')\n",
        "bus1.drop('Alice')\n",
        "assert bus1.passengers == ['Charlie', 'Bill']"
      ],
      "execution_count": 0,
      "outputs": []
    },
    {
      "metadata": {
        "id": "N9WcaTXwnf8J",
        "colab_type": "text"
      },
      "cell_type": "markdown",
      "source": [
        "## 6 (difficile)"
      ]
    },
    {
      "metadata": {
        "id": "-VIuWC6cnf8Q",
        "colab_type": "code",
        "colab": {}
      },
      "cell_type": "code",
      "source": [
        "# ECRIRE ICI\n",
        "def preventnone(func):\n",
        "    def newfunc(*args, **kwargs):\n",
        "        if None in kwargs.values() or None in args:\n",
        "            raise Exception(\"None in args\")\n",
        "        else:\n",
        "            return func(*args, **kwargs)\n",
        "    return newfunc\n",
        "\n",
        "# Ecrire un decorateur apellé preventnone (rappel : une fonction qui prend et retourne une fonction)\n",
        "# Qui soulève une exception si des arguments vaut None"
      ],
      "execution_count": 0,
      "outputs": []
    },
    {
      "metadata": {
        "id": "E4ynusCGnf8k",
        "colab_type": "code",
        "colab": {}
      },
      "cell_type": "code",
      "source": [
        "# NE PAS MODIFIER - VERIFICATION\n",
        "@preventnone\n",
        "def myfunction(a, b, c, d=True):\n",
        "    print(a, b, c ,d)\n",
        "myfunction(1,2,3,4)"
      ],
      "execution_count": 0,
      "outputs": []
    },
    {
      "metadata": {
        "scrolled": true,
        "id": "UzMNWKu4nf85",
        "colab_type": "code",
        "colab": {}
      },
      "cell_type": "code",
      "source": [
        "# NE PAS MODIFIER - VERIFICATION\n",
        "myfunction(1,2,3,None)  # shoud raise an exception"
      ],
      "execution_count": 0,
      "outputs": []
    },
    {
      "metadata": {
        "id": "VEapLH4Wnf9K",
        "colab_type": "code",
        "colab": {}
      },
      "cell_type": "code",
      "source": [
        "# NE PAS MODIFIER - VERIFICATION\n",
        "myfunction(None)  # shoud raise an exception"
      ],
      "execution_count": 0,
      "outputs": []
    },
    {
      "metadata": {
        "id": "ijX4B4Vjnf9a",
        "colab_type": "code",
        "colab": {}
      },
      "cell_type": "code",
      "source": [
        "# NE PAS MODIFIER - VERIFICATION\n",
        "myfunction(d=None)  # shoud raise an exception"
      ],
      "execution_count": 0,
      "outputs": []
    }
  ]
}